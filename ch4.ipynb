{
 "cells": [
  {
   "cell_type": "markdown",
   "id": "8a95efab-ca5d-400e-91c1-5bc240baf6df",
   "metadata": {},
   "source": [
    "# 딥러닝 기초\n",
    "\n",
    "## CH4 과제\n",
    "\n",
    "## 2020100381 안정빈"
   ]
  },
  {
   "cell_type": "markdown",
   "id": "4a506351-bb2f-409d-8dfa-c81206c4d170",
   "metadata": {},
   "source": [
    "## Ch4. 신경망 학습\n",
    "+ 학습: 훈련 데이터로부터 가중치 매개변수의 최적값을 자동으로 획득하는 것\n",
    "+ 학습의 목표: 손실 함수의 결괏값을 가장 작게 만드는 가중치 매개변수를 찾는 것\n",
    "+ 신경망은 가중치 매개변수의 값을 데이터를 보고 자동으로 결정한다.\n",
    "+ 신경망은 수천에서 수만개의 매개변수가 존재하기에, 매개 변수를 수작업이 아닌 자동으로 설정할 수 있는 것은 매우 중요하다."
   ]
  },
  {
   "cell_type": "markdown",
   "id": "08275d4d-97fd-4438-b1a6-d60964903cad",
   "metadata": {},
   "source": [
    "### 4-1-1. 데이터 주도 학습\n",
    "+ 머신러닝은 데이터에서 답을 찾고 데이터에서 패턴을 발견하고 데이터로 이야기를 만드는 것으로, 데이터가 매우 중요한 요소이다.\n",
    "+ 사람은 경험과 직관을 단서로, 시행착오를 거듭하며 일을 진행한다.\n",
    "+ 반면, 머신러닝에서는 사람의 개입을 최소화하고 수집한 데이터로부터 패턴을 찾으려 시도한다.\n",
    "+ 신경망과 딥러닝은 기존 머신러닝에서 사용하던 방법보다 사람의 개입을 더욱 배제할 수 있게 해준다."
   ]
  },
  {
   "cell_type": "markdown",
   "id": "b78c3a0d-931a-46ef-ad85-1a9305f06237",
   "metadata": {},
   "source": [
    "손 글씨 숫자를 분류하는 경우:\n",
    "+ 5-> 사람이 생각한 알고리즘 -> 결과\n",
    "+ 5-> 사람이 생각한 특징 추출(SIFT, HOG 등) -> 머신러닝 알고리즘(SVM, KNN) -> 결과\n",
    "+ 5->신경망(딥러닝) -> 결과\n",
    "\n",
    "즉, 머신러닝은 특징을 사람이 설계하지만, 신경망은 이미지를 있는 그대로 학습하여, 이미지에 포함된 중요한 특징까지도 '기계'가 스스로 학습한다.\n",
    "\n",
    "이러한 특성으로 딥러닝을 종단간 머신러닝이라고도 한다."
   ]
  },
  {
   "cell_type": "markdown",
   "id": "62205736-c55f-481e-947e-45517b5e5a7b",
   "metadata": {},
   "source": [
    "### 4-1-2. 훈련 데이터와 시험 데이터\n",
    "+ 머신러닝은 데이터를 훈련 데이터와 시험 데이터로 나눠, 훈련 데이터로 최적의 매개변수를 찾고, 시험 데이터로 모델의 실력을 평가한다.\n",
    "+ 범용 능력(아직 보지 못한 데이터로도 문제를 풀어내는 능력)을 평가하기 위해 데이터를 분할\n",
    "+ 훈련 데이터에만 지나치게 최적화된 상태(과대 적합)여부를 확인, 과대적합을 피하는 것은 머신러닝의 중요한 과제이다."
   ]
  },
  {
   "cell_type": "markdown",
   "id": "c7d57676-6d91-48a7-b8e5-1f88612eb69b",
   "metadata": {},
   "source": [
    "### 4-2. 손실함수\n",
    "+ 신경망 학습에서는 현재의 상태를 '하나의 지표'로 표현한다. 그리고 그 지표를 가장 좋게 만들어주는 가중치 매개변수의 값을 탐색한다.\n",
    "+ 이 때 신경망 학습에서 사용하는 지표를 손실 함수라고 한다. 일반적으로 SSE(오차제곱합)과 교차 엔트로피 오차를 사용한다.\n",
    "+ 손실 함수는 신경망의 성능의 '나쁨'을 나타내는 지표로, 현재의 신경망이 훈련 데이터를 얼마나 잘 처리하지 '못' 하느냐를 나타낸다."
   ]
  },
  {
   "cell_type": "markdown",
   "id": "5ddc6fde-0069-4c8b-b16e-386a01146ef1",
   "metadata": {},
   "source": [
    "### 4-2-1. 오차제곱합\n",
    "오차 제곱합: (신경망의 출력-정답 레이블)의 제곱을 모두 더하고 2로 나눈 값"
   ]
  },
  {
   "cell_type": "code",
   "execution_count": 30,
   "id": "ae31fcf8-30c2-4e11-9cd8-a12e62aaf578",
   "metadata": {},
   "outputs": [
    {
     "name": "stdout",
     "output_type": "stream",
     "text": [
      "0.09750000000000003\n",
      "0.5975\n"
     ]
    }
   ],
   "source": [
    "import numpy as np \n",
    "\n",
    "y=[0.1,0.05,0.6,0.0,0.05,0.1,0.0,0.1,0.0,0.0] # 배열의 원소는 첫 번째 인덱스부터 순서대로 숫자 '0','1','2'...일 때의 값\n",
    "# y는 소프트맥스 함수의 출력 \n",
    "t=[0,0,1,0,0,0,0,0,0,0] # 정답을 가리키는 위치의 원소는 1, 그 외에는 0으로 표시\n",
    "# t처럼 한 원소만 1, 나머지 원소는 0으로 나타내는 표기법을 원-핫 인코딩이라 함.\n",
    "\n",
    "def sum_squares_error(y,t): # SSE\n",
    "    return 0.5 * np.sum((y-t)**2)\n",
    "\n",
    "print(sum_squares_error(np.array(y),np.array(t)))\n",
    "\n",
    "y=[0.1, 0.05, 0.1, 0.0, 0.05, 0.1, 0.0, 0.6, 0.0, 0.0] # 7d일 확률이 가장 높다고 추정함(0.6)\n",
    "print(sum_squares_error(np.array(y),np.array(t)))"
   ]
  },
  {
   "cell_type": "markdown",
   "id": "0e25fb02-0dda-46fc-a715-e25e6a88e28f",
   "metadata": {},
   "source": [
    "첫 번째의 예는 정답이 2고 신경망의 출력도 2에서 가장 높은 경우, 두번째 예는 정답이 2지만, 신경망의 출력은 7에서 가장 높다.\n",
    "\n",
    "그렇기에 첫 번째 예시의 손실 함수 출력값이 작으며, 정답 레이블과의 오차도 작다는 것을 알 수 있다.\n",
    "\n",
    "-> 오차제곱합 기준으로 첫 번째 추정 결과가 오차가 더 작으므로 정답에 더 가까울 것으로 판단 할 수 있다."
   ]
  },
  {
   "cell_type": "markdown",
   "id": "5eb15ea0-e4cb-4ca8-bb4e-fe94bf2914fc",
   "metadata": {},
   "source": [
    "### 4-2-2. 교차 엔트로피 오차\n",
    "정답일 때의 추정의 자연로그를 계산하는 식 \n",
    "ex) 정답 레이블이 2이고, 신경망의 출력이 0.6이라면 교차 엔트로피 오차는 -log0.6=0.51이 된다. / 같은 조건에서 신경망 출력이 0.1이라면 -log0.1=2.30\n",
    "\n",
    "-> 교차 엔트로피 오차는 정답일 때의 출력이 전체 값을 정한다."
   ]
  },
  {
   "cell_type": "code",
   "execution_count": 31,
   "id": "cff89e15-5859-4b94-966b-dfbe10b9adf3",
   "metadata": {},
   "outputs": [
    {
     "name": "stdout",
     "output_type": "stream",
     "text": [
      "0.510825457099338\n",
      "2.302584092994546\n"
     ]
    }
   ],
   "source": [
    "def cross_entropy_error(y,t):\n",
    "    delta=1e-7\n",
    "    return -np.sum(t*np.log(y+delta))\n",
    "\n",
    "t=[0,0,1,0,0,0,0,0,0,0]\n",
    "y=[0.1,0.05,0.6,0.0,0.05,0.1,0.0,0.1,0.0,0.0]\n",
    "print(cross_entropy_error(np.array(y),np.array(t)))\n",
    "\n",
    "y=[0.1,0.05,0.1,0.0,0.05,0.1,0.0,0.6,0.0,0.0]\n",
    "print(cross_entropy_error(np.array(y),np.array(t)))"
   ]
  },
  {
   "cell_type": "markdown",
   "id": "21df383a-081a-4cf2-b78f-812682097109",
   "metadata": {},
   "source": [
    "정답일 때의 출력이 높을 때, 엔트로피 오차가 적게 나온다. -> 결과가 더 작은 첫 번째 추정이 정답일 가능성이 높다고 판단할 수 있다."
   ]
  },
  {
   "cell_type": "markdown",
   "id": "19485650-0270-4a04-870f-204f61ab6857",
   "metadata": {},
   "source": [
    "### 4-2-3. 미니배치 학습\n",
    "+ 머신러닝 문제는 훈련 데이터에 대한 손실 함수의 값을 구하고, 그 값을 최대한 줄여주는 매개변수를 찾는다.\n",
    "+ 모든 훈련 데이터를 대상으로 손실 함수 값을 구해야 함\n",
    "+ 훈련 데이터가 100개라 가정, 그로부터 계산한 100개의 손실 함수 값들의 합을 지표로 삼는다.\n",
    "+ 그러나 데이터가 많을 경우, 모든 데이터를 대상으로 손실 함수를 계산하는 것은 현실적이지 않다.\n",
    "-> 데이터 일부를 추려 전체의 '근사치'로 이용. 일부 데이터(미니 배치)를 이용해 학습한다. 이러한 학습 방법을 미니배치 학습이라 한다."
   ]
  },
  {
   "cell_type": "code",
   "execution_count": 32,
   "id": "7cb5c6d6-4851-474e-8252-985296f44ee0",
   "metadata": {},
   "outputs": [
    {
     "name": "stdout",
     "output_type": "stream",
     "text": [
      "(60000, 784)\n",
      "(60000, 10)\n"
     ]
    }
   ],
   "source": [
    "import sys, os\n",
    "sys.path.append(os.path.join(os.getcwd(), '..'))\n",
    "from dataset.mnist import load_mnist \n",
    "\n",
    "(x_train, t_train),(x_test,t_test)= \\\n",
    "    load_mnist(normalize=True, one_hot_label=True) \n",
    "# normalize: 입력 이미지의 픽셀값을 0~1.0 사이로 정규화 시킬 것인지 여부/ one_hot_label: 정답 위치의 원소만 1이고 나머지가 0으로 처리할 것인지 여부\n",
    "\n",
    "print(x_train.shape)\n",
    "print(t_train.shape)"
   ]
  },
  {
   "cell_type": "code",
   "execution_count": 33,
   "id": "d30c4474-2e67-471a-b5e0-36c28fa1a7dc",
   "metadata": {},
   "outputs": [],
   "source": [
    "train_size=x_train.shape[0]\n",
    "batch_size=10\n",
    "batch_mask=np.random.choice(train_size, batch_size) # 지정한 범위의 수 중 무작위로 원하는 개수만 꺼내는 함수\n",
    "# ex) np.random.choice(6000,10) 0이상 6000미만의 수 중에서 무작위로 10개 추출\n",
    "x_batch=x_train[batch_mask]\n",
    "t_batch=t_train[batch_mask]"
   ]
  },
  {
   "cell_type": "code",
   "execution_count": 34,
   "id": "58130fcc-dd75-4f93-a3a8-a1901f99864a",
   "metadata": {},
   "outputs": [
    {
     "data": {
      "text/plain": [
       "array([26816, 21942, 39576,  6827, 13897, 10160, 52587, 22908, 22769,\n",
       "        1397], dtype=int32)"
      ]
     },
     "execution_count": 34,
     "metadata": {},
     "output_type": "execute_result"
    }
   ],
   "source": [
    "np.random.choice(60000,10)"
   ]
  },
  {
   "cell_type": "markdown",
   "id": "f7c6f25e-7080-44b8-b282-baee05efcadc",
   "metadata": {},
   "source": [
    "### 4-2-4. (배치용) 교차 엔트로피 오차 구현하기"
   ]
  },
  {
   "cell_type": "code",
   "execution_count": 35,
   "id": "7aa13b13-a43e-4802-96b5-9cfff92146b2",
   "metadata": {},
   "outputs": [],
   "source": [
    "def cross_entropy_error(y,t):\n",
    "    if y.ndim==1:\n",
    "        t=t.reshape(1, t.size) # t: 정답 레이블\n",
    "        y=y.reshape(1, y.size) # y: 신경망의 출력 \n",
    "\n",
    "    batch_size=y.shape[0]\n",
    "    return -np.sum(t*np.log(y+1e-7)) / batch_size\n",
    "# reshape 함수로 데이터의 형상을 바꿔주고, 배치의 크기로 나눠 정규호하고 이미지 1장당 평균의 교차 엔트로피 오차를 계산"
   ]
  },
  {
   "cell_type": "code",
   "execution_count": 36,
   "id": "44b05ef3-4dc6-4c45-a0f8-33eef31c433c",
   "metadata": {},
   "outputs": [],
   "source": [
    "# 정답 레이블이 원-핫 인코딩이 아닌 숫자 레이블로 주어졌을 때의 교차 엔트로피 오차\n",
    "\n",
    "def cross_entropy_error(y,t):\n",
    "    if y.ndim==1:\n",
    "        t=t.reshape(1, t.size) \n",
    "        y=y.reshape(1, y.size)\n",
    "\n",
    "    batch_size=y.shape[0]\n",
    "    return -np.sum(np.log(y[np.arange(batch_size),t] + 1e-7)) / batch_size\n",
    "# 정답에 해당하는 신경망의 출력만으로 교차 엔트로피 오차를 계산 "
   ]
  },
  {
   "cell_type": "markdown",
   "id": "2517f4df-8b35-44cf-8572-21b3d577dcf4",
   "metadata": {},
   "source": [
    "### 4-2-5. 왜 손실 함수를 설정하는가?\n",
    "+ 신경망 학습에서는 최적의 매개변수를 탐색할 때 손실 함수의 값을 가능한 적게 하는 매개변수의 값을 찾는데,\n",
    "+ 이때 매개변수의 미분(기울기)를 계산하고 그 미분 값을 단서로 매개변수의 값을 서서히 갱신하는 과정을 반복한다.\n",
    "+ 만일, 미분 값이 음수면 그 가중치 매개변수를 양의 방향으로 변화시켜 손실 함수의 값을 줄일 수 있다\n",
    "+ 반대로 미분 값이 양수면 그 가중치 매개변수를 음의 방향으로 변화시켜 손실 함수의 값을 줄일 수 있다.\n",
    "+ 미분 값이 0이면 가중치 매개변수를 움직여도 손실 함수의 값이 줄어들지 않는데, 정확도를 지표로 하면 매개변수의 미분이 0이 되는 문제가 생긴다."
   ]
  },
  {
   "cell_type": "markdown",
   "id": "08b38df8-4289-4801-b69a-040674c00b13",
   "metadata": {},
   "source": [
    "### 4-3-1. 미분\n",
    "+ 경사법에서는 기울기(경사) 값을 기준으로 나아갈 방향을 정한다.\n",
    "+ 미분이란 '특정 순간'의 변화량을 뜻한다. ex)직전 1분에 달린 거리, 직전 1초에 달린 거리 등 간격을 줄여 한순간(어느 순간의 속도) 확인"
   ]
  },
  {
   "cell_type": "code",
   "execution_count": 37,
   "id": "2e28da17-8a7e-4507-90a2-894e84b7ddb4",
   "metadata": {},
   "outputs": [],
   "source": [
    "# 나쁜 구현 예시 \n",
    "def numerical_diff(f,x): # 수치 미분\n",
    "    h=1e-50\n",
    "    return (f(x+h)-f(x))/ h\n"
   ]
  },
  {
   "cell_type": "code",
   "execution_count": 38,
   "id": "51f5546a-e31d-4053-9804-196d8bbe64dd",
   "metadata": {},
   "outputs": [
    {
     "name": "stdout",
     "output_type": "stream",
     "text": [
      "0.0\n"
     ]
    }
   ],
   "source": [
    "print(np.float32(1e-50))"
   ]
  },
  {
   "cell_type": "markdown",
   "id": "2296de90-3062-4d3b-b58a-f3a51772b0ae",
   "metadata": {},
   "source": [
    "x의 '작은 변화'가 함수 f(x)를 얼마나 변화시키느냐를 의미하는 코드\n",
    "\n",
    "이때 시간을 뜻하는 h를 한없이 0에 가깝게 만든다.\n",
    "\n",
    "잘못된 점:\n",
    "+ h에 가급적 작은 값을 대입하기 위해 설정한 1e-50이라는 작은 값은 반올림 오차 발생\n",
    "\n",
    "  반올림 오차는 작은 값(소수점 8자리 이하)가 생략되어 최종 계산 결과에 오차가 생기게 함.\n",
    "\n",
    "  -> h값을 10의 -4승으로 변경 \n",
    "+ 진정한 미분은 x 위치의 함수의 기울에 해당하나, 위의 구현에서의 미분은 (x+h)와 x 사이의 기울기에 해당 \n",
    "\n",
    "  -> 이 오차를 줄이기 위해 (x+h)와 (x-h)일 때의 함수 f의 차분을 계산하는 방법 사용\n",
    "\n",
    "  이 차분은 x를 중심으로 그 전후의 차분을 계산한다는 의미에서 중심 차분, 중앙 차분이라 부름."
   ]
  },
  {
   "cell_type": "code",
   "execution_count": 39,
   "id": "fe6729d9-b333-4984-8200-e8d69856e9ec",
   "metadata": {},
   "outputs": [],
   "source": [
    "# 개선\n",
    "def numerical_diff(f,x):\n",
    "    h=1e-4\n",
    "    return (f(x+h) - f(x-h)) / (2*h)"
   ]
  },
  {
   "cell_type": "markdown",
   "id": "a5d57f19-45a5-4604-94cb-338c3150798e",
   "metadata": {},
   "source": [
    "### 4-3-2.수치 미분의 예\n",
    "\n",
    "아주 작은 차분으로 미분하는 것을 의미\n",
    "\n"
   ]
  },
  {
   "cell_type": "code",
   "execution_count": 40,
   "id": "8867de4a-429f-4fd1-b82b-1a2531947bfc",
   "metadata": {},
   "outputs": [
    {
     "data": {
      "image/png": "[encoded data removed]",
      "text/plain": [
       "<Figure size 640x480 with 1 Axes>"
      ]
     },
     "metadata": {},
     "output_type": "display_data"
    }
   ],
   "source": [
    "# y=0.01x²+0.1x 식 미분\n",
    "\n",
    "def function_1(x):\n",
    "    return 0.01*x**2 + 0.1*x\n",
    "\n",
    "import matplotlib.pyplot as plt \n",
    "\n",
    "x=np.arange(0.0,20.0,0.1) # 0에서 20까지 0.1 간격의 배열 x 생성 , 20은 미포함\n",
    "y=function_1(x)\n",
    "plt.xlabel(\"x\")\n",
    "plt.ylabel(\"f(x)\")\n",
    "plt.plot(x,y)\n",
    "plt.show()"
   ]
  },
  {
   "cell_type": "code",
   "execution_count": 41,
   "id": "ebf1b1fb-d7fb-4db1-9277-57225c9bcdd2",
   "metadata": {},
   "outputs": [
    {
     "name": "stdout",
     "output_type": "stream",
     "text": [
      "0.1999999999990898\n",
      "0.2999999999986347\n"
     ]
    }
   ],
   "source": [
    "# x=5일때 미분 값\n",
    "print(numerical_diff(function_1, 5))\n",
    "# x=10일때 미분 값\n",
    "print(numerical_diff(function_1, 10))"
   ]
  },
  {
   "cell_type": "markdown",
   "id": "259894aa-04a4-41f0-87f1-a9b6311f4d17",
   "metadata": {},
   "source": [
    "위에서 계산한 미분 값이 x에 대한 f(x)의 변화량, 즉 함수의 기울기이다.\n",
    "\n",
    "x가 5와 10일 때의 '진정한 미분'은 0.2와 0.3으로, 앞의 수치 미분과 결과를 비교하면, 그 오차가 매우 작은 것을 확인 할 수 있다."
   ]
  },
  {
   "cell_type": "markdown",
   "id": "7ae71129-ee9b-4231-b0bd-cd4b010196d7",
   "metadata": {},
   "source": [
    "### 4-3-3. 편미분\n",
    "\n",
    "변수가 여럿인 함수에 대한 미분\n",
    "\n",
    "+ 변수가 하나인 미분과 마찬가지로 특정 장소의 기울기를 구한다.\n",
    "+ 단, 여러 변수 중 목표 변수 하나에 초점을 맞추고 다른 변수는 값을 고정한다."
   ]
  },
  {
   "cell_type": "code",
   "execution_count": 42,
   "id": "6864a33b-f85d-4928-ba11-a5512c55c54b",
   "metadata": {},
   "outputs": [],
   "source": [
    "# 인수 x는 넘파이 배열이라 가정. 넘파이 배열의 각 원소를 제곱하고 그 합을 구하는 예시\n",
    "def function_2(x):\n",
    "    return x[0]**2 + x[1]**2"
   ]
  },
  {
   "cell_type": "code",
   "execution_count": 43,
   "id": "47d5bcee-316e-45c5-aa53-3c26b9731e20",
   "metadata": {},
   "outputs": [
    {
     "name": "stdout",
     "output_type": "stream",
     "text": [
      "6.00000000000378\n"
     ]
    }
   ],
   "source": [
    "# x0=3, x1=4일때, x0에 대한 편미분\n",
    "\n",
    "def function_tmp1(x0):\n",
    "    return x0*x0 + 4.0 ** 2.0\n",
    "\n",
    "print(numerical_diff(function_tmp1,3))"
   ]
  },
  {
   "cell_type": "code",
   "execution_count": 44,
   "id": "e87d9c60-e816-491c-9b65-6623703b20b1",
   "metadata": {},
   "outputs": [
    {
     "name": "stdout",
     "output_type": "stream",
     "text": [
      "7.999999999999119\n"
     ]
    }
   ],
   "source": [
    "# x0=3, x1=4일때, x1에 대한 편미분\n",
    "\n",
    "def function_tmp2(x1):\n",
    "    return 3.0**2.0 + x1*x1\n",
    "\n",
    "print(numerical_diff(function_tmp2,4))"
   ]
  },
  {
   "cell_type": "markdown",
   "id": "0e2e1ee4-b950-4ed0-bca5-1750c7736dd7",
   "metadata": {},
   "source": [
    "## 4-4. 기울기\n",
    "\n",
    "모든 변수의 편미분을 벡터로 정리한 것을 의미"
   ]
  },
  {
   "cell_type": "code",
   "execution_count": 45,
   "id": "4f5cb694-00d0-4b6b-87af-b01efc892bff",
   "metadata": {},
   "outputs": [],
   "source": [
    "# 기울기 구현\n",
    "def numerical_gradient(f,x):\n",
    "    h=1e-4\n",
    "    grad=np.zeros_like(x) # x와 형상이 같고, 그 원소가 모두 0인 배열 생성\n",
    "\n",
    "    for idx in range(x.size):\n",
    "        tmp_val=x[idx]\n",
    "\n",
    "        # f(x+h) 계산\n",
    "        x[idx]=tmp_val + h\n",
    "        fxh1= f(x)\n",
    "\n",
    "        # f(x-h) 계산\n",
    "        x[idx]=tmp_val - h\n",
    "        fxh2 = f(x)\n",
    "\n",
    "        grad[idx] = (fxh1 - fxh2) / (2*h)\n",
    "        x[idx] = tmp_val # 값 복원\n",
    "    return grad"
   ]
  },
  {
   "cell_type": "code",
   "execution_count": 46,
   "id": "e744e516-ebc8-474f-b81e-100d710ad777",
   "metadata": {},
   "outputs": [
    {
     "name": "stdout",
     "output_type": "stream",
     "text": [
      "[6. 8.]\n",
      "[0. 4.]\n",
      "[6. 0.]\n"
     ]
    }
   ],
   "source": [
    "# (3,4)에서의 기울기\n",
    "print(numerical_gradient(function_2, np.array([3.0, 4.0])))\n",
    "\n",
    "# (0,2)에서의 기울기\n",
    "print(numerical_gradient(function_2, np.array([0.0, 2.0])))\n",
    "\n",
    "# (3,0)에서의 기울기\n",
    "print(numerical_gradient(function_2, np.array([3.0, 0.0])))"
   ]
  },
  {
   "cell_type": "markdown",
   "id": "9aabf99a-a24e-49a2-b177-017164ac7d20",
   "metadata": {},
   "source": [
    "+ 각 기울기가 가리키는 쪽은 각 장소에서 함수의 출력 값을 가장 크게 줄이는 방향을 의미"
   ]
  },
  {
   "cell_type": "markdown",
   "id": "101a2682-4bff-4a19-8f61-529bf57b7d4f",
   "metadata": {},
   "source": [
    "### 4-4-1. 경사법\n",
    "\n",
    "+ 머신러닝 문제에서 최적의 매개변수를 찾기 위해선, 손실 함수가 최솟값이 되어야 함.\n",
    "+ 그러나 매개변수 공간이 광대하여 어디가 최솟값이 되는 곳인지 알기 어려움.\n",
    "+ -> 이때, 기울기를 잘 이용해 함수의 최솟값(가능한 작은 값)을 찾는 기법이 경사법\n",
    "+ 각 지점에서 함수의 값을 낮추는 방안을 제시하는 지표는 기울기이다.\n",
    "+ 그러나 기울기가 가리키는 곳에 정말 함수의 최솟값이 있는지, 보장하진 못한다.\n",
    "+ 정리하자면, 기울어진 방향이 최솟값을 보장하진 않으나, 그 방향으로 가야 함수의 값을 줄일 수 있다."
   ]
  },
  {
   "cell_type": "markdown",
   "id": "94935869-1818-4ce4-8d55-3b0daae3a531",
   "metadata": {},
   "source": [
    "+ 경사법은 현 위치에서 기울어진 방향으로 일정 거리만큼 이동, 이동한 곳에서도 기울기를 구하고, 기울어진 방향으로 나아감을 반복\n",
    "+ 이러한 방법으로 함수의 값을 점차 줄이는 기법을 경사법이라 한다.\n",
    "+ 경사의 최솟값을 찾으면 경사하강법 / 경사의 최댓값을 찾으면 경사 상승법\n",
    "+ 경사법에선, 매개변수 값을 얼마나 갱신하느냐를 정하는 학습률을 이용한다. 학습률은 사전에 특정 값으로 정의해야 한다.\n",
    "+ 학습률이 너무 크거나, 작으면 좋은 결과를 얻을 수 없다.\n",
    "\n"
   ]
  },
  {
   "cell_type": "code",
   "execution_count": 47,
   "id": "6db56377-dc03-497d-94d5-264c75e3f7ea",
   "metadata": {},
   "outputs": [],
   "source": [
    "def gradient_descent(f, init_x, lr=0.01, step_num=100): # f:최적화 하려는 함수, init_x:초깃값, lr:학습률, step_num:반복 횟수\n",
    "    x=init_x\n",
    "\n",
    "    for i in range(step_num):\n",
    "        grad=numerical_gradient(f,x)\n",
    "        x-=lr * grad\n",
    "\n",
    "    return x"
   ]
  },
  {
   "cell_type": "code",
   "execution_count": 48,
   "id": "a1ed483e-1c1f-4153-a951-339d2ec53dfb",
   "metadata": {},
   "outputs": [
    {
     "name": "stdout",
     "output_type": "stream",
     "text": [
      "[-6.11110793e-10  8.14814391e-10]\n"
     ]
    }
   ],
   "source": [
    "# 초기값을 (-3.0, -4.0)으로 설정한 후 최솟값 탐색\n",
    "def function_2(x):\n",
    "    return x[0]**2 + x[1]**2\n",
    "\n",
    "init_x=np.array([-3.0,4.0])\n",
    "print(gradient_descent(function_2, init_x=init_x, lr=0.1, step_num=100))"
   ]
  },
  {
   "cell_type": "code",
   "execution_count": 49,
   "id": "7c274f01-4259-45da-91fc-d1172f1fc7a3",
   "metadata": {},
   "outputs": [
    {
     "name": "stdout",
     "output_type": "stream",
     "text": [
      "[-2.58983747e+13 -1.29524862e+12]\n",
      "[-2.99999994  3.99999992]\n"
     ]
    }
   ],
   "source": [
    "# 학습률이 너무 큰 예: lr=10.0\n",
    "init_x=np.array([-3.0,4.0])\n",
    "print(gradient_descent(function_2, init_x=init_x, lr=10.0, step_num=100))\n",
    "\n",
    "# 학습률이 너무 작은 예: lr=1e-10\n",
    "init_x=np.array([-3.0,4.0])\n",
    "print(gradient_descent(function_2, init_x=init_x, lr=1e-10, step_num=100))"
   ]
  },
  {
   "cell_type": "markdown",
   "id": "5cdc0ec7-38ec-42b3-bfa0-0c04be6ba39b",
   "metadata": {},
   "source": [
    "+ 학습률이 너무 크면 큰 값으로 발산 / 너무 작으면 거의 갱신되지 않은 채 종료"
   ]
  },
  {
   "cell_type": "markdown",
   "id": "abed115b-5a60-4e29-bc33-cc733f476537",
   "metadata": {},
   "source": [
    "### 4-4-2. 신경망에서의 기울기\n",
    "\n",
    "신경망 학습 역시 가중치 매개변수에 대한 손실 함수의 기울기를 구해야 함."
   ]
  },
  {
   "cell_type": "code",
   "execution_count": 50,
   "id": "614c4483-80d1-4908-b25b-3e2fe6819c4d",
   "metadata": {},
   "outputs": [],
   "source": [
    "import sys, os\n",
    "sys.path.append(os.path.join(os.getcwd(), 'dataset'))\n",
    "from functions import softmax, cross_entropy_error\n",
    "from gradient import numerical_gradient\n",
    "\n",
    "class simpleNet: # 형상이 2x3인 가중치 매개변수 하나를 변수로 갖음\n",
    "    def __init__(self):\n",
    "        self.W=np.random.randn(2,3) # 정규분포로 초기화 \n",
    "\n",
    "    def predict(self, x): # 예측을 수행하는 매서드\n",
    "        return np.dot(x, self.W)\n",
    "\n",
    "    def loss(self, x, t): # 손실 함수의 값을 구하는 매서드 x: 입력 데이터 t: 정답 레이블\n",
    "        z=self.predict(x)\n",
    "        y=softmax(z)\n",
    "        loss = cross_entropy_error(y,t)\n",
    "\n",
    "        return loss"
   ]
  },
  {
   "cell_type": "code",
   "execution_count": 51,
   "id": "5850455f-4556-4374-8782-28cb0d329dbd",
   "metadata": {},
   "outputs": [
    {
     "name": "stdout",
     "output_type": "stream",
     "text": [
      "[[0.07903218 0.23366711 1.01431417]\n",
      " [0.83294105 0.6804663  0.47111675]]\n",
      "[0.79706626 0.75261993 1.03259358]\n",
      "2\n",
      "0.9345066448492001\n"
     ]
    }
   ],
   "source": [
    "net = simpleNet()\n",
    "print(net.W) # 가중치 매개변수 \n",
    "x=np.array([0.6,0.9])\n",
    "p=net.predict(x)\n",
    "print(p)\n",
    "print(np.argmax(p)) # 최댓값의 인덱스 \n",
    "\n",
    "t=np.array([0,0,1]) # 정답 레이블 \n",
    "print(net.loss(x,t))"
   ]
  },
  {
   "cell_type": "code",
   "execution_count": 52,
   "id": "2256cab0-b54b-4be3-9202-7397cf58e363",
   "metadata": {},
   "outputs": [
    {
     "name": "stdout",
     "output_type": "stream",
     "text": [
      "[[ 0.18621374  0.17811846 -0.36433221]\n",
      " [ 0.27932062  0.2671777  -0.54649831]]\n"
     ]
    }
   ],
   "source": [
    "def f(w):\n",
    "    return net.loss(x,t)\n",
    "\n",
    "dw=numerical_gradient(f,net.W)\n",
    "print(dw)"
   ]
  },
  {
   "cell_type": "markdown",
   "id": "ff3c97c8-9f77-44d9-9e8e-e851148b5fc9",
   "metadata": {},
   "source": [
    "### 4-5. 학습 알고리즘 구현하기\n",
    "\n",
    "신경망 학습: 가중치와 편향을 훈련 데이터에 적응하도록 조정하는 과정 아래의 4과정을 거침\n",
    "\n",
    "1. 미니배치 추출: 훈련 데이터 중 일부를 무작위로 가져온 것으로 미니배치의 손실 함수 값을 줄이는 것이 목표\n",
    "2. 기울기 산출: 미니배치의 손실 함수 값을 줄이기 위해 각 가중치 매개변수의 기울기를 구한다. 기울기는 손실 함수 의 값을 가장 적게 하는 방향을 제시\n",
    "3. 매개변수 갱신: 가중치 매개변수를 기울기 방향으로 아주 조금 갱신\n",
    "4. 반복: 1~3단계 반복\n",
    "\n",
    "-> 데이터를 미니배치로 무작위로 선정하기 때문에 확률적 경사 하강법(SGD)이라 부름."
   ]
  },
  {
   "cell_type": "code",
   "execution_count": 53,
   "id": "d4ee1693-3456-4f2c-8d7c-cbd855c4476d",
   "metadata": {},
   "outputs": [],
   "source": [
    "from functions import * \n",
    "\n",
    "class TwoLayerNet:\n",
    "    def __init__(self, input_size, hidden_size, output_size,\n",
    "                 weight_init_std=0.01):\n",
    "\n",
    "        # 가중치 초기화\n",
    "        self.params={}\n",
    "        self.params['W1']=weight_init_std * np.random.randn(input_size, hidden_size)\n",
    "        self.params['b1']=np.zeros(hidden_size)\n",
    "        self.params['W2']=weight_init_std * np.random.randn(hidden_size,output_size)\n",
    "        self.params['b2']=np.zeros(output_size)\n",
    "\n",
    "    def predict(self, x):\n",
    "        W1, W2=self.params['W1'], self.params['W2']\n",
    "        b1, b2=self.params['b1'], self.params['b2']\n",
    "\n",
    "        a1=np.dot(x,W1) + b1\n",
    "        z1=sigmoid(a1)\n",
    "        a2=np.dot(z1,W2) + b2\n",
    "        y=softmax(a2)\n",
    "\n",
    "        return y\n",
    "    # x: 입력 데이터, t: 정답 레이블 \n",
    "    def loss(self, x, t):\n",
    "        y=self.predict(x)\n",
    "\n",
    "        return cross_entropy_error(y,t)\n",
    "\n",
    "    def accuracy(self, x, t):\n",
    "        y=self.predict(x)\n",
    "        y=np.argmax(y, axis=1)\n",
    "        t= np.argmax(t, axis=1)\n",
    "\n",
    "        accuracy=np.sum(y==t) / float(x.shape[0])\n",
    "        return accuracy\n",
    "\n",
    "    # x: 입력 데이터, t:정답 레이블\n",
    "    def numerical_gradient(self, x, t):\n",
    "        loss_W = lambda W:self.loss(x,t)\n",
    "\n",
    "        grads={}\n",
    "        grads['W1']=numerical_gradient(loss_W, self.params['W1'])\n",
    "        grads['b1']=numerical_gradient(loss_W, self.params['b1'])\n",
    "        grads['W2']=numerical_gradient(loss_W, self.params['W2'])\n",
    "        grads['b2']=numerical_gradient(loss_W, self.params['b2'])\n",
    "\n",
    "        return grads\n",
    "    "
   ]
  },
  {
   "cell_type": "markdown",
   "id": "13ccbb1d-dd58-4246-8d1f-99dda521c2d0",
   "metadata": {},
   "source": [
    "+ params: 신경망의 매개변수를 보관하는 딕셔너리 변수, params[W1]은 1번째 층의 가중치, params['b1']은 1번 층의 편향\n",
    "+ grads: 기울기 보관하는 딕셔너리 변수 매서드의 반환 값, grads['W1']은 1번째 층의 가중치 기울기, grads['b1']은 1번째 층의 편향의 기울기"
   ]
  },
  {
   "cell_type": "code",
   "execution_count": 54,
   "id": "5827ad00-66ea-4b01-a2c0-bf32436409e0",
   "metadata": {},
   "outputs": [
    {
     "name": "stdout",
     "output_type": "stream",
     "text": [
      "(784, 100)\n",
      "(100,)\n",
      "(100, 10)\n",
      "(10,)\n"
     ]
    }
   ],
   "source": [
    "net=TwoLayerNet(input_size=784, hidden_size=100, output_size=10)\n",
    "print(net.params['W1'].shape)\n",
    "print(net.params['b1'].shape)\n",
    "print(net.params['W2'].shape)\n",
    "print(net.params['b2'].shape)"
   ]
  },
  {
   "cell_type": "code",
   "execution_count": 55,
   "id": "247b9bda-042d-4957-822b-84adacc5c7c2",
   "metadata": {},
   "outputs": [],
   "source": [
    "x=np.random.rand(100,784) # 더미 입력 데이터(100장 분량)\n",
    "y=net.predict(x)"
   ]
  },
  {
   "cell_type": "code",
   "execution_count": 56,
   "id": "22428fff-605e-42cb-87fc-93bf66a2d042",
   "metadata": {},
   "outputs": [
    {
     "name": "stdout",
     "output_type": "stream",
     "text": [
      "(784, 100)\n",
      "(100,)\n",
      "(100, 10)\n",
      "(10,)\n"
     ]
    }
   ],
   "source": [
    "x=np.random.rand(100,784) # 더미 입력 데이터(100장 분량)\n",
    "t=np.random.rand(100,10) # 더미 정답 레이블(100장 분량)\n",
    "\n",
    "grads=net.numerical_gradient(x,t) # 기울기 계산 \n",
    "\n",
    "print(grads['W1'].shape)\n",
    "print(grads['b1'].shape)\n",
    "print(grads['W2'].shape)\n",
    "print(grads['b2'].shape)"
   ]
  },
  {
   "cell_type": "markdown",
   "id": "31a0b0d3-7d49-4908-ae80-64feba8e3ec5",
   "metadata": {},
   "source": [
    "### 4-5-2. 미니배치 학습 구현하기 "
   ]
  },
  {
   "cell_type": "code",
   "execution_count": 57,
   "id": "c6030542-3d8e-40b1-8b29-8e40ec6c818e",
   "metadata": {},
   "outputs": [
    {
     "data": {
      "text/plain": [
       "\"\\n(x_train, t_train),(x_test,t_test)=load_mnist(normalize=True, one_hot_label=True)\\n\\ntrain_loss_list=[]\\n\\n# 하이퍼 파라미터\\niters_num=10000 # 반복 횟수 \\ntrain_size=x_train.shape[0]\\nbatch_size=100 # 미니배치 크기\\nlearning_rate=0.1 # 학습률 \\nnetwork=TwoLayerNet(input_size=784, hidden_size=50, output_size=10)\\n\\nfor i in range(iters_num):\\n    # 미니배치 획득 \\n    batch_mask=np.random.choice(train_size, batch_size)\\n    x_batch=x_train[batch_mask]\\n    t_batch=t_train[batch_mask]\\n\\n    # 기울기 계산\\n    grad=network.numerical_gradient(x_batch, t_batch)\\n\\n    # 매개변수 갱신\\n    for key in ('W1','b1','W2','b2'):\\n        network.params[key] -=learning_rate * grad[key]\\n\\n    # 학습 경과 기록 \\n    loss=network.loss(x_batch, t_batch)\\n    train_loss_list.append(loss)\\n\""
      ]
     },
     "execution_count": 57,
     "metadata": {},
     "output_type": "execute_result"
    }
   ],
   "source": [
    "\"\"\"\n",
    "(x_train, t_train),(x_test,t_test)=load_mnist(normalize=True, one_hot_label=True)\n",
    "\n",
    "train_loss_list=[]\n",
    "\n",
    "# 하이퍼 파라미터\n",
    "iters_num=10000 # 반복 횟수 \n",
    "train_size=x_train.shape[0]\n",
    "batch_size=100 # 미니배치 크기\n",
    "learning_rate=0.1 # 학습률 \n",
    "network=TwoLayerNet(input_size=784, hidden_size=50, output_size=10)\n",
    "\n",
    "for i in range(iters_num):\n",
    "    # 미니배치 획득 \n",
    "    batch_mask=np.random.choice(train_size, batch_size)\n",
    "    x_batch=x_train[batch_mask]\n",
    "    t_batch=t_train[batch_mask]\n",
    "\n",
    "    # 기울기 계산\n",
    "    grad=network.numerical_gradient(x_batch, t_batch)\n",
    "\n",
    "    # 매개변수 갱신\n",
    "    for key in ('W1','b1','W2','b2'):\n",
    "        network.params[key] -=learning_rate * grad[key]\n",
    "\n",
    "    # 학습 경과 기록 \n",
    "    loss=network.loss(x_batch, t_batch)\n",
    "    train_loss_list.append(loss)\n",
    "\"\"\""
   ]
  },
  {
   "cell_type": "markdown",
   "id": "0ba4163a-303c-4a96-9753-43eb8f54dced",
   "metadata": {},
   "source": [
    "미니배치 크기를 100으로 하여, 매번 6만개의 훈련 데이터에서 임의로 100개를 추린다. 그 후 100개의 미니배치를 대상으로 SGD를 수행해 매개변수를 갱신한다.\n",
    "\n",
    "갱신 횟수를 만번으로 하여, 갱신할 때마다 훈련 데이터에 대한 손실 함수를 계산하여 그 값을 배열에 추가한다."
   ]
  },
  {
   "cell_type": "markdown",
   "id": "761bc0a7-53e8-459a-b09a-9bf2b0bc0760",
   "metadata": {},
   "source": [
    "### 4-5-3. 시험 데이터로 평가하기\n",
    "\n",
    "위의 코드에서 구하는 손실 함수 의 값은 훈련 데이터의 미니배치에 대한 손실 함수 값으로, 다른 데이터셋에서도 비슷한 성능이 나오는지 확인해야 한다."
   ]
  },
  {
   "cell_type": "code",
   "execution_count": 58,
   "id": "a0d1db4c-fdb1-4c96-8e9e-b7a204a90d90",
   "metadata": {},
   "outputs": [
    {
     "data": {
      "text/plain": [
       "'\\nnetwork=TwoLayerNet(input_size=784, hidden_size=50, output_size=10)\\n\\n# 하이퍼파라미터\\niters_num=10000 # 반복 횟수 \\ntrain_size=x_train.shape[0]\\nbatch_size=100 # 미니배치 크기\\nlearning_rate=0.1 # 학습률 \\n\\ntrain_loss_list=[]\\ntrain_acc_list=[]\\ntest_acc_list=[]\\n\\n# 1에포크당 반복 수 \\niter_per_epoch=max(train_size/batch_size,1)\\n\\nfor i in range(iters_num):\\n    # 미니배치 획득 \\n    batch_mask=np.random.choice(train_size, batch_size)\\n    x_batch=x_train[batch_mask]\\n    t_batch=t_train[batch_mask]\\n\\n    # 기울기 계산\\n    grad=network.numerical_gradient(x_batch, t_batch)\\n\\n    # 매개변수 갱신\\n    for key in (\\'W1\\',\\'b1\\',\\'W2\\',\\'b2\\'):\\n        network.params[key] -=learning_rate * grad[key]\\n\\n    # 학습 경과 기록 \\n    loss=network.loss(x_batch, t_batch)\\n    train_loss_list.append(loss)\\n\\n    # 1 에포크당 정확도 계산 \\n    if i % iter_per_epoch==0:\\n        train_acc=network.accuracy(x_train, t_train)\\n        test_acc=network.accuracy(x_test, t_test)\\n        train_acc_list.append(train_acc)\\n        test_acc_list.append(test_acc)\\n        print(\"train acc\" + str(train_acc) +\", test acc \" + str(test_acc))\\n'"
      ]
     },
     "execution_count": 58,
     "metadata": {},
     "output_type": "execute_result"
    }
   ],
   "source": [
    "\"\"\"\n",
    "network=TwoLayerNet(input_size=784, hidden_size=50, output_size=10)\n",
    "\n",
    "# 하이퍼파라미터\n",
    "iters_num=10000 # 반복 횟수 \n",
    "train_size=x_train.shape[0]\n",
    "batch_size=100 # 미니배치 크기\n",
    "learning_rate=0.1 # 학습률 \n",
    "\n",
    "train_loss_list=[]\n",
    "train_acc_list=[]\n",
    "test_acc_list=[]\n",
    "\n",
    "# 1에포크당 반복 수 \n",
    "iter_per_epoch=max(train_size/batch_size,1)\n",
    "\n",
    "for i in range(iters_num):\n",
    "    # 미니배치 획득 \n",
    "    batch_mask=np.random.choice(train_size, batch_size)\n",
    "    x_batch=x_train[batch_mask]\n",
    "    t_batch=t_train[batch_mask]\n",
    "\n",
    "    # 기울기 계산\n",
    "    grad=network.numerical_gradient(x_batch, t_batch)\n",
    "\n",
    "    # 매개변수 갱신\n",
    "    for key in ('W1','b1','W2','b2'):\n",
    "        network.params[key] -=learning_rate * grad[key]\n",
    "\n",
    "    # 학습 경과 기록 \n",
    "    loss=network.loss(x_batch, t_batch)\n",
    "    train_loss_list.append(loss)\n",
    "\n",
    "    # 1 에포크당 정확도 계산 \n",
    "    if i % iter_per_epoch==0:\n",
    "        train_acc=network.accuracy(x_train, t_train)\n",
    "        test_acc=network.accuracy(x_test, t_test)\n",
    "        train_acc_list.append(train_acc)\n",
    "        test_acc_list.append(test_acc)\n",
    "        print(\"train acc\" + str(train_acc) +\", test acc \" + str(test_acc))\n",
    "\"\"\""
   ]
  },
  {
   "cell_type": "code",
   "execution_count": null,
   "id": "4fc3d65f-0a15-4615-9ea9-8b0b7b3207a8",
   "metadata": {},
   "outputs": [],
   "source": []
  }
 ],
 "metadata": {
  "kernelspec": {
   "display_name": "Python 3 (ipykernel)",
   "language": "python",
   "name": "python3"
  },
  "language_info": {
   "codemirror_mode": {
    "name": "ipython",
    "version": 3
   },
   "file_extension": ".py",
   "mimetype": "text/x-python",
   "name": "python",
   "nbconvert_exporter": "python",
   "pygments_lexer": "ipython3",
   "version": "3.10.0"
  }
 },
 "nbformat": 4,
 "nbformat_minor": 5
}
