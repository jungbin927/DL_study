{
 "cells": [
  {
   "cell_type": "markdown",
   "id": "8d3736e9-1ec6-4909-a334-ba80567a0f16",
   "metadata": {},
   "source": [
    "# 딥러닝 기초\n",
    "\n",
    "## CH3.3~CH3.7 과제\n",
    "\n",
    "## 2020100381 안정빈"
   ]
  },
  {
   "cell_type": "markdown",
   "id": "7b7fa792-8296-48c0-9f39-f8b4c93542d5",
   "metadata": {},
   "source": [
    "## 3-3. 다차원 배열의 계산\n",
    "\n",
    "다차원 배열: '숫자의 집합'으로, 숫자를 N차원으로 나열하는 것을 뜻함."
   ]
  },
  {
   "cell_type": "code",
   "execution_count": 33,
   "id": "7561efd4-4da1-4abb-a355-646055a93364",
   "metadata": {},
   "outputs": [
    {
     "name": "stdout",
     "output_type": "stream",
     "text": [
      "[1 2 3 4]\n",
      "배열의 차원: 1\n",
      "배열의 형상: (4,)\n",
      "원소의 개수: 4\n"
     ]
    }
   ],
   "source": [
    "# 원소가 4개인 1차원 배열 \n",
    "\n",
    "import numpy as np \n",
    "A=np.array([1,2,3,4]) # 1차원 배열\n",
    "print(A)\n",
    "print(\"배열의 차원:\",np.ndim(A)) # np.ndim 배열의 차원 수를 확인하는 함수 \n",
    "print(\"배열의 형상:\",A.shape) # 배열의 형상 확인\n",
    "print(\"원소의 개수:\",A.shape[0]) # 첫번째 축의 크기 출력/ 즉 1차원 배열에선 원소의 개수"
   ]
  },
  {
   "cell_type": "code",
   "execution_count": 34,
   "id": "e0d0470c-9144-4d70-8e5e-3cd2e9bd8982",
   "metadata": {},
   "outputs": [
    {
     "name": "stdout",
     "output_type": "stream",
     "text": [
      "[[1 2]\n",
      " [3 4]\n",
      " [5 6]]\n",
      "배열의 차원: 2\n",
      "배열의 형상: (3, 2)\n"
     ]
    }
   ],
   "source": [
    "# 2차원 배열 \n",
    "\n",
    "B=np.array([[1,2],[3,4],[5,6]]) # 3X2 배열 생성 \n",
    "print(B)\n",
    "print(\"배열의 차원:\",np.ndim(B))\n",
    "print(\"배열의 형상:\",B.shape)"
   ]
  },
  {
   "cell_type": "markdown",
   "id": "c810ce51-bb13-4ae0-8672-70f3a3525f29",
   "metadata": {},
   "source": [
    "2 차원 배열은 행렬이라 부르며, 배열의 가로 방향을 행, 세로 방향을 열이라고 부름\n",
    "\n",
    "-> 위에 출력 결과에서 1,2는 행/ 1,3,5는 열이라고 부름 "
   ]
  },
  {
   "cell_type": "markdown",
   "id": "25de2e11-78dc-490f-9f0a-fb49c613ff51",
   "metadata": {},
   "source": [
    "### 3-3-2. 행렬의 곱\n",
    "\n",
    "A=[[1,2],[3,4]] / B= [[5,6],[7,8]] A와 B, 즉 2x2 행렬의 곱은, 왼쪽 행렬의 행과 오른쪽 행렬의 열을 원소별로 곱하고 그 값들을 더해서 계산\n",
    "\n",
    "A의 1행 X B의 1열 => 1행 1번째 원소 1x5 + 2x7 = 19\n",
    "\n",
    "A의 1행 X B의 2열 => 1행 2번째 원소 1x6 + 2x8 = 22\n",
    "\n",
    "A의 2행 X B의 1열 => 2행 1번째 원소 3x5 + 4x7 = 43\n",
    "\n",
    "A의 2행 X B의 2열 => 2행 2번째 원소 3x6 + 4x8 = 50"
   ]
  },
  {
   "cell_type": "code",
   "execution_count": 35,
   "id": "8923b24a-e968-4897-b213-ac1bbaa69c13",
   "metadata": {},
   "outputs": [
    {
     "name": "stdout",
     "output_type": "stream",
     "text": [
      "A의 형상: (2, 2)\n",
      "B의 형상: (2, 2)\n"
     ]
    },
    {
     "data": {
      "text/plain": [
       "array([[19, 22],\n",
       "       [43, 50]])"
      ]
     },
     "execution_count": 35,
     "metadata": {},
     "output_type": "execute_result"
    }
   ],
   "source": [
    "A=np.array([[1,2],[3,4]])\n",
    "print(\"A의 형상:\",A.shape)\n",
    "B=np.array([[5,6,],[7,8]])\n",
    "print(\"B의 형상:\",B.shape)\n",
    "np.dot(A,B) # 행렬의 곱/ np.dot은 입력이 1차원 배열이면 벡터, 2차원 배열이면 행렬 곱을 계산\n"
   ]
  },
  {
   "cell_type": "code",
   "execution_count": 36,
   "id": "a13cb116-9d9d-41a1-adb7-2ab1dc49b34b",
   "metadata": {},
   "outputs": [
    {
     "name": "stdout",
     "output_type": "stream",
     "text": [
      "A의 형상: (2, 3)\n",
      "B의 형상: (3, 2)\n"
     ]
    },
    {
     "data": {
      "text/plain": [
       "array([[22, 28],\n",
       "       [49, 64]])"
      ]
     },
     "execution_count": 36,
     "metadata": {},
     "output_type": "execute_result"
    }
   ],
   "source": [
    "A=np.array([[1,2,3],[4,5,6]]) # 2x3 배열\n",
    "B=np.array([[1,2],[3,4],[5,6]]) # 3x2 배열 \n",
    "\n",
    "print(\"A의 형상:\",A.shape)\n",
    "print(\"B의 형상:\",B.shape)\n",
    "np.dot(A,B)"
   ]
  },
  {
   "cell_type": "code",
   "execution_count": 37,
   "id": "83285cd7-ff15-4251-bcb2-0d89c464329f",
   "metadata": {},
   "outputs": [
    {
     "name": "stdout",
     "output_type": "stream",
     "text": [
      "C의 형상: (2, 2)\n",
      "A의 형상: (2, 3)\n"
     ]
    }
   ],
   "source": [
    "C=np.array([[1,2],[3,4]])\n",
    "print(\"C의 형상:\",C.shape)\n",
    "print(\"A의 형상:\",A.shape)\n",
    "# np.dot(A,C) \n",
    "# 배열의 형상 (A의 1번째 차원의 원소 수와 C의 0번째 차원의 원소 수)가 다르므로 오류 발생"
   ]
  },
  {
   "cell_type": "code",
   "execution_count": 38,
   "id": "8b0aedb5-eb23-4821-8f9d-3eafe3d8d532",
   "metadata": {},
   "outputs": [
    {
     "name": "stdout",
     "output_type": "stream",
     "text": [
      "A의 형상: (3, 2)\n",
      "B의 형상: (2,)\n"
     ]
    },
    {
     "data": {
      "text/plain": [
       "array([23, 53, 83])"
      ]
     },
     "execution_count": 38,
     "metadata": {},
     "output_type": "execute_result"
    }
   ],
   "source": [
    "A=np.array([[1,2],[3,4],[5,6]])\n",
    "B=np.array([7,8])\n",
    "\n",
    "\n",
    "print(\"A의 형상:\",A.shape)\n",
    "print(\"B의 형상:\",B.shape)\n",
    "np.dot(A,B)"
   ]
  },
  {
   "cell_type": "markdown",
   "id": "cafa1967-637f-490b-816d-86c3c9dc53ef",
   "metadata": {},
   "source": [
    "행렬의 곱은, 행렬 A의 1번째 차원의 원소 수(열의 개수)와 행렬 B의 0번째 차원의 원소 수(행의 개수)가 같아야 한다.\n",
    "\n",
    "즉, 2X3 행렬 A와, 2X2 행렬 C의 곱은 (A의 1번째 차원의 원소 수는 3개, C의 0번째 차원의 원소 수 2개)이므로 불가하다.\n",
    "\n",
    "A는 5x2 행열, B는 2X4 행열이라면 원소 수(2)가 일치하므로, 5X4 행렬이 만들어진다.\n",
    "\n",
    "B가 1차원 배열일 때도, 대응하는 차원의 원소 수가 같아야 한다.\n",
    "\n",
    "결론: 행렬의 곱에서는 대응하는 차원의 원소 수가 일치해야 하며, 일치할 경우, A의 0번째 원소 수(행 수)와 B의 1번째 원소 수(열 수)의 크기인 행렬이 만들어진다."
   ]
  },
  {
   "cell_type": "markdown",
   "id": "6cec9106-05aa-46bf-ada3-05488642cb8c",
   "metadata": {},
   "source": [
    "### 3-3-3. 신경망에서의 행렬 곱"
   ]
  },
  {
   "cell_type": "code",
   "execution_count": 39,
   "id": "6d9dc641-cd43-4aa4-82db-f34db0ba78fd",
   "metadata": {},
   "outputs": [
    {
     "name": "stdout",
     "output_type": "stream",
     "text": [
      "X의 형상: (2,)\n",
      "W(가중치)의 형상: (2, 3)\n",
      "[ 5 11 17]\n"
     ]
    }
   ],
   "source": [
    "X=np.array([1,2])\n",
    "W=np.array([[1,3,5],[2,4,6]])\n",
    "\n",
    "print(\"X의 형상:\",X.shape)\n",
    "print(\"W(가중치)의 형상:\",W.shape)\n",
    "Y=np.dot(X,W)\n",
    "print(Y)"
   ]
  },
  {
   "cell_type": "markdown",
   "id": "c1a1a2e7-5144-40e8-9719-6a4a9a78fac5",
   "metadata": {},
   "source": [
    "신경망에서의 계산을 행렬 계산으로 정리 가능\n",
    "\n",
    "배열을 사용하면 계산을 빠르고 효율적으로 할 수 있으며, 복잡한 연산 처리 가능하다.\n",
    "\n",
    "또한 데이터 및 가중치, 편향을 배열로써 관리가 가능하다.\n"
   ]
  },
  {
   "cell_type": "markdown",
   "id": "6d51d352-7a9b-4f9c-aa60-f4ead9da6d81",
   "metadata": {},
   "source": [
    "## 3-4. 3층 신경망 구현하기\n",
    "\n",
    "입력층 2개, 첫 번째 은닉층 3개, 두 번째 은닉층 2개, 출력층 2개인 신경망 구현"
   ]
  },
  {
   "cell_type": "code",
   "execution_count": 40,
   "id": "51079377-dc8d-4d51-b7e0-6f92358675bc",
   "metadata": {},
   "outputs": [
    {
     "name": "stdout",
     "output_type": "stream",
     "text": [
      "가중치의 형상: (2, 3)\n",
      "입력값의 형상: (2,)\n",
      "가중치의 형샹: (3,)\n"
     ]
    }
   ],
   "source": [
    "# 입력층에서 1층으로 신호 전달\n",
    "X=np.array([1.0,0.5]) # 입력값\n",
    "W1=np.array([[0.1,0.3,0.5],[0.2,0.4,0.6]]) # 가중치\n",
    "B1=np.array([0.1,0.2,0.3]) # 편향\n",
    "\n",
    "print(\"가중치의 형상:\",W1.shape)\n",
    "print(\"입력값의 형상:\",X.shape)\n",
    "print(\"가중치의 형샹:\",B1.shape)\n",
    "\n",
    "A1=np.dot(X,W1)+B1 # 입력값과 가중치를 곱한 후, 편향을 더 함."
   ]
  },
  {
   "cell_type": "code",
   "execution_count": 41,
   "id": "5aba7eb9-7dea-4136-afef-6d59f93d2a13",
   "metadata": {},
   "outputs": [
    {
     "name": "stdout",
     "output_type": "stream",
     "text": [
      "[0.3 0.7 1.1]\n",
      "[0.57444252 0.66818777 0.75026011]\n"
     ]
    }
   ],
   "source": [
    "# 활성화 함수인 시그모이드를 이용하여, 첫번째 은닉층의 출력값 계산\n",
    "def sigmoid(x):\n",
    "    return 1/(1+np.exp(-x))\n",
    "\n",
    "Z1=sigmoid(A1)\n",
    "print(A1) # 선형 변환된 값\n",
    "print(Z1) # 첫 번째 은닉층의 출력값"
   ]
  },
  {
   "cell_type": "code",
   "execution_count": 42,
   "id": "21db190e-3290-43d5-9c8a-da94b98cf488",
   "metadata": {},
   "outputs": [
    {
     "name": "stdout",
     "output_type": "stream",
     "text": [
      "첫 번째 은닉층의 출력값 형상: (3,)\n",
      "2 번째 가중치 형상: (3, 2)\n",
      "편향의 형상: (2,)\n"
     ]
    }
   ],
   "source": [
    "# 첫번째 은닉층에서 두번째 은닉층으로의 신호 전달\n",
    "W2=np.array([[0.1,0.4],[0.2,0.5],[0.3,0.6]])\n",
    "B2=np.array([0.1,0.2])\n",
    "\n",
    "print(\"첫 번째 은닉층의 출력값 형상:\", Z1.shape)\n",
    "print(\"2 번째 가중치 형상:\",W2.shape)\n",
    "print(\"편향의 형상:\",B2.shape)\n",
    "\n",
    "A2=np.dot(Z1, W2)+B2 # 두 번째 은닉층의 입력값\n",
    "Z2=sigmoid(A2) # 두 번째 은닉층의 출력 값"
   ]
  },
  {
   "cell_type": "code",
   "execution_count": 43,
   "id": "37f97343-0e3c-4bfa-acae-214f7ad421fb",
   "metadata": {},
   "outputs": [],
   "source": [
    "# 두번째 은닉층에서 출력층으로의 신호 전달 \n",
    "\n",
    "def identity_function(x): # 활성화 함수로 항등 함수 사용/ 항등 함수는 입력을 그대로 출력\n",
    "    return x\n",
    "\n",
    "W3=np.array([[0.1,0.3],[0.2,0.4]])\n",
    "B3=np.array([0.1,0.2])\n",
    "\n",
    "A3=np.dot(Z2,W3)+B3\n",
    "Y=identity_function(A3) # y=A3"
   ]
  },
  {
   "cell_type": "markdown",
   "id": "221fca83-cfcd-4747-af48-d6970d759379",
   "metadata": {},
   "source": [
    "출력층의 활성화 함수는 문제의 성질에 맞게 사용\n",
    "\n",
    "항등 함수: 회귀\n",
    "\n",
    "시그모이드 함수: 이진 분류 \n",
    "\n",
    "소프트맥스 함수: 다중 분류 "
   ]
  },
  {
   "cell_type": "markdown",
   "id": "d0b2aa06-0e2a-49ab-99be-c292096f3b2a",
   "metadata": {},
   "source": [
    "### 3-4-3. 구현 정리"
   ]
  },
  {
   "cell_type": "code",
   "execution_count": 44,
   "id": "b7f03de1-a93e-4193-a510-2cd403032a32",
   "metadata": {},
   "outputs": [
    {
     "name": "stdout",
     "output_type": "stream",
     "text": [
      "[0.31682708 0.69627909]\n"
     ]
    }
   ],
   "source": [
    "def init_network(): # 가중치와 편향을 초기화, 딕셔너리 변수에 저장\n",
    "    network={}\n",
    "    network['W1']=np.array([[0.1,0.3,0.5],[0.2,0.4,0.6]])\n",
    "    network['b1']=np.array([0.1,0.2,0.3])\n",
    "    network['W2']=np.array([[0.1,0.4],[0.2,0.5],[0.3,0.6]])\n",
    "    network['b2']=np.array([0.1,0.2])\n",
    "    network['W3']=np.array([[0.1,0.3],[0.2,0.4]])\n",
    "    network['b3']=np.array([0.1,0.2])\n",
    "\n",
    "    return network\n",
    "\n",
    "def forward(network,x): # 입력 신호를 출력으로 변환하는 처리 과정 구현 / 입력->출력 즉 순전파 구현\n",
    "    W1, W2, W3 = network['W1'], network['W2'], network['W3']\n",
    "    b1, b2, b3= network['b1'], network['b2'], network['b3']\n",
    "\n",
    "    a1=np.dot(x,W1) + b1\n",
    "    z1=sigmoid(a1)\n",
    "    a2=np.dot(z1,W2) + b2\n",
    "    z2=sigmoid(a2)\n",
    "    a3=np.dot(z2,W3)+ b3\n",
    "    y=identity_function(a3)\n",
    "\n",
    "    return y\n",
    "\n",
    "network=init_network()\n",
    "x=np.array([1.0,0.5])\n",
    "y=forward(network,x)\n",
    "print(y)"
   ]
  },
  {
   "cell_type": "markdown",
   "id": "ac4108de-ea6a-43b4-a7b3-ed317c5aece2",
   "metadata": {},
   "source": [
    "## 3-5. 출력층 설계하기"
   ]
  },
  {
   "cell_type": "markdown",
   "id": "caad7707-f9d1-4bd7-bd96-c36cc422d534",
   "metadata": {},
   "source": [
    "### 3-5-1. 항등 함수와 소프트맥스 함수 구현하기 \n",
    "\n",
    "신경망은 분류와 회귀 문제 모두 이용 가능, 그러나 분류와 회귀일 때, 출력층에서 사용하는 활성화 함수가 다름.\n",
    "\n",
    "항등 함수: 회귀 / 소프트맥스 함수: 분류 문제\n",
    "\n",
    "항등 함수: 입력을 그대로 출력하는 함수 -> 출력층에서 사용 시, 입력 신호가 그대로 출력 신호가 된다.\n",
    "\n",
    "소프트맥스 함수: 입력 신호 ak의 지수 함수/ 모든 입력 신호의 지수 함수의 합"
   ]
  },
  {
   "cell_type": "code",
   "execution_count": 45,
   "id": "60b2bd4a-4ef8-4bb2-9726-d75feb8c676a",
   "metadata": {},
   "outputs": [
    {
     "name": "stdout",
     "output_type": "stream",
     "text": [
      "[ 1.34985881 18.17414537 54.59815003]\n"
     ]
    }
   ],
   "source": [
    "a=np.array([0.3,2.9,4.0])\n",
    "\n",
    "exp_a=np.exp(a) # 지수 함수 \n",
    "print(exp_a)"
   ]
  },
  {
   "cell_type": "code",
   "execution_count": 46,
   "id": "eb21be4c-606c-4ad0-9851-efb100a4d0c4",
   "metadata": {},
   "outputs": [
    {
     "name": "stdout",
     "output_type": "stream",
     "text": [
      "74.1221542101633\n"
     ]
    }
   ],
   "source": [
    "sum_exp_a=np.sum(exp_a) # 지수 함수의 합\n",
    "print(sum_exp_a)"
   ]
  },
  {
   "cell_type": "code",
   "execution_count": 47,
   "id": "06c5d751-ab3b-44a4-8c11-be8bb191a72a",
   "metadata": {},
   "outputs": [
    {
     "name": "stdout",
     "output_type": "stream",
     "text": [
      "[0.01821127 0.24519181 0.73659691]\n"
     ]
    }
   ],
   "source": [
    "y= exp_a/ sum_exp_a \n",
    "\n",
    "print(y)"
   ]
  },
  {
   "cell_type": "code",
   "execution_count": 48,
   "id": "491d4fcf-6749-488f-b426-19a99924023f",
   "metadata": {},
   "outputs": [],
   "source": [
    "def softmax(a): # 소프트맥스 함수\n",
    "    exp_a=np.exp(a)\n",
    "    sum_exp_a=np.sum(exp_a)\n",
    "    y= exp_a/ sum_exp_a\n",
    "\n",
    "    return y\n",
    "    "
   ]
  },
  {
   "cell_type": "markdown",
   "id": "f9909fd3-3d3f-4a37-ba5b-7553587eeb1b",
   "metadata": {},
   "source": [
    "### 3-5-2. 소프트맥스 함수 구현 시 주의점\n",
    "\n",
    "오버플로 문제: 컴퓨터는 수를 크기가 유한한 데이터로 다뤄, 수의 범위가 한정되어 너무 큰 값을 다룰 수 없음.\n",
    "\n",
    "소프트맥스 함수는 지수 함수를 사용하는데, 지수 함수는 아주 큰 값을 만들기에, 이런 큰 값끼리 나눗셈을 하면 결과 수치가 '불안정'해짐"
   ]
  },
  {
   "cell_type": "code",
   "execution_count": 49,
   "id": "8e9a9fc5-863d-4343-b3cd-ce078fa5eb39",
   "metadata": {},
   "outputs": [
    {
     "name": "stderr",
     "output_type": "stream",
     "text": [
      "C:\\Users\\jeongbin\\AppData\\Local\\Temp\\ipykernel_23532\\2501791746.py:2: RuntimeWarning: overflow encountered in exp\n",
      "  np.exp(a)/np.sum(np.exp(a)) # 소프트맥스 함수의 계산\n",
      "C:\\Users\\jeongbin\\AppData\\Local\\Temp\\ipykernel_23532\\2501791746.py:2: RuntimeWarning: invalid value encountered in divide\n",
      "  np.exp(a)/np.sum(np.exp(a)) # 소프트맥스 함수의 계산\n"
     ]
    },
    {
     "data": {
      "text/plain": [
       "array([nan, nan, nan])"
      ]
     },
     "execution_count": 49,
     "metadata": {},
     "output_type": "execute_result"
    }
   ],
   "source": [
    "a=np.array([1010,1000,990])\n",
    "np.exp(a)/np.sum(np.exp(a)) # 소프트맥스 함수의 계산"
   ]
  },
  {
   "cell_type": "code",
   "execution_count": 50,
   "id": "5d98f458-f84d-410f-bb0c-ce644e9cb28c",
   "metadata": {},
   "outputs": [
    {
     "data": {
      "text/plain": [
       "array([  0, -10, -20])"
      ]
     },
     "execution_count": 50,
     "metadata": {},
     "output_type": "execute_result"
    }
   ],
   "source": [
    "c=np.max(a) \n",
    "a-c"
   ]
  },
  {
   "cell_type": "code",
   "execution_count": 51,
   "id": "b2d9bad9-4e78-4dc2-b06b-680c71c080d5",
   "metadata": {},
   "outputs": [
    {
     "data": {
      "text/plain": [
       "array([9.99954600e-01, 4.53978686e-05, 2.06106005e-09])"
      ]
     },
     "execution_count": 51,
     "metadata": {},
     "output_type": "execute_result"
    }
   ],
   "source": [
    "np.exp(a-c)/ np.sum(np.exp(a-c))\n"
   ]
  },
  {
   "cell_type": "code",
   "execution_count": 52,
   "id": "3d71708c-50f9-41c7-b4b2-0e85c0581c6a",
   "metadata": {},
   "outputs": [],
   "source": [
    "def softmax(a):\n",
    "    c=np.max(a)\n",
    "    exp_a=np.exp(a-c)\n",
    "    sum_exp_a=np.sum(exp_a)\n",
    "    y= exp_a/ sum_exp_a\n",
    "\n",
    "    return y\n",
    "\n",
    "# 오버 플로를 막기 위해 입력 신호 중 최댓값을 빼서 계산"
   ]
  },
  {
   "cell_type": "markdown",
   "id": "962b2248-051a-4b6d-8fe5-5b974e1e7f73",
   "metadata": {},
   "source": [
    "소프트맥스의 지수 함수를 계산할 때 어떤 정수를 더하거나 빼도 결과가 바뀌지 않음,\n",
    "\n",
    "즉, 오버플로를 막기 위해 입력 신호 중 최댓값을 이용"
   ]
  },
  {
   "cell_type": "markdown",
   "id": "9b992b03-9cc8-49a8-85ed-27f0b7c89d92",
   "metadata": {},
   "source": [
    "### 3-5-3. 소프트맥스 함수의 특징\n",
    "\n",
    "소프트맥스 함수의 출력은 0~1.0 사이의 실수이며, 소프트맥스 함수 출력의 총합은 1 => 소프트맥스 함수의 출력을 '확률'로 해석 가능"
   ]
  },
  {
   "cell_type": "code",
   "execution_count": 53,
   "id": "c14929a1-af54-4020-8708-1a44dcb0aecf",
   "metadata": {},
   "outputs": [
    {
     "name": "stdout",
     "output_type": "stream",
     "text": [
      "[0.01821127 0.24519181 0.73659691]\n",
      "소프트맥스 함수의 합계: 1.0\n"
     ]
    }
   ],
   "source": [
    "a=np.array([0.3, 2.9, 4.0])\n",
    "y=softmax(a)\n",
    "print(y) \n",
    "print(\"소프트맥스 함수의 합계:\",np.sum(y))"
   ]
  },
  {
   "cell_type": "markdown",
   "id": "15e6084b-9c05-4b1a-bb5b-c32fbaa58e4e",
   "metadata": {},
   "source": [
    "y[0]의 확률은 0.018, y[1]의 확률은 0.245, y[2]의 확률은 0.736으로 해석 가능\n",
    "\n",
    "-> '2번째 원소의 확률이 가장 높으니, 답은 2번 클래스'라고 할 수 있음\n",
    "\n",
    "즉, 소프트맥스 함수를 이용하여 문제를 확률적으로 대응 가능 \n",
    "\n",
    "그러나, 소프트맥스 함수를 적용해도 각 원소의 대소 관계는 변하지 않는다. 그러므로 출력층의 소프트맥스 함수는 생략 가능"
   ]
  },
  {
   "cell_type": "markdown",
   "id": "f837d2a7-0c26-4dcd-8cff-305afd3b7ba8",
   "metadata": {},
   "source": [
    "### 3-6. 손글씨 숫자 인식\n",
    "\n",
    "MNIST 데이터셋: 0부터 9까지의 숫자 이미지로 구성된 데이터셋"
   ]
  },
  {
   "cell_type": "code",
   "execution_count": 54,
   "id": "882c3648-7744-48bd-a50f-41d6da5f9687",
   "metadata": {},
   "outputs": [
    {
     "name": "stdout",
     "output_type": "stream",
     "text": [
      "(60000, 784)\n",
      "(60000,)\n",
      "(10000, 784)\n",
      "(10000,)\n"
     ]
    }
   ],
   "source": [
    "import sys, os\n",
    "sys.path.append(os.path.join(os.getcwd(), '..'))\n",
    "from dataset.mnist import load_mnist \n",
    "\n",
    "(x_train, t_train),(x_test,t_test)= \\\n",
    "    load_mnist(flatten= True, normalize=False) \n",
    "# flatten: 입력 이미지를 1차원 배열로 만들지 여부 / normalize: 입력 이미지의 픽셀값을 0~1.0 사이로 정규화 시킬 것인지 여부\n",
    "\n",
    "print(x_train.shape)\n",
    "print(t_train.shape)\n",
    "print(x_test.shape)\n",
    "print(t_test.shape)"
   ]
  },
  {
   "cell_type": "code",
   "execution_count": 55,
   "id": "009c250a-175d-48eb-99ce-3c3407cc4113",
   "metadata": {},
   "outputs": [
    {
     "name": "stdout",
     "output_type": "stream",
     "text": [
      "5\n",
      "기존 형상: (784,)\n",
      "변경된 형상: (28, 28)\n"
     ]
    }
   ],
   "source": [
    "from PIL import Image # 이미지를 표시하는 모듈\n",
    "\n",
    "def img_show(img):\n",
    "    pil_img=Image.fromarray(np.uint8(img))\n",
    "    pil_img.show()\n",
    "\n",
    "img=x_train[0]\n",
    "label=t_train[0]\n",
    "print(label)\n",
    "\n",
    "print(\"기존 형상:\",img.shape)\n",
    "img=img.reshape(28,28) # flatten=True로 하여 1차원으로 저장되었기에, 원래 형상인 28x28로 변형\n",
    "print(\"변경된 형상:\",img.shape)\n",
    "\n",
    "img_show(img)"
   ]
  },
  {
   "cell_type": "markdown",
   "id": "b1f9360f-6995-4411-a0ec-ad60a65da664",
   "metadata": {},
   "source": [
    "### 3-6-2. 신경망의 추론 처리 \n",
    "\n",
    "입력층 뉴런 784개로 구성 이미지의 크기가 28x28=784이기 때문.\n",
    "\n",
    "출력층 뉴런 10개로 구성 0~9까지 총 10개의 숫자로 구분 / 출력층의 뉴런 개수는 풀려는 문제에 맞게 적절히 정해야 함."
   ]
  },
  {
   "cell_type": "code",
   "execution_count": 56,
   "id": "a99d9e9d-211a-4fcd-9308-ba8fe7a1a842",
   "metadata": {},
   "outputs": [],
   "source": [
    "import pickle\n",
    "\n",
    "def get_data():\n",
    "    (x_train, t_train), (x_test,t_test)= \\\n",
    "        load_mnist(normalize=True, flatten=True, one_hot_label=False) # normalize=True를 이용해 정규화 처리\n",
    "\n",
    "    return x_test, t_test\n",
    "    \n",
    "file_path = \"C:/Users/jeongbin/study/DL_study/dataset/sample_weight.pkl\"\n",
    "\n",
    "def init_network(): # 학습된 가중치 매개변수 읽음\n",
    "     with open(file_path, 'rb') as f:\n",
    "        network = pickle.load(f)\n",
    "         \n",
    "     return network\n",
    "    \n",
    "def predict(network, x):\n",
    "    W1, W2, W3=network['W1'], network['W2'], network['W3']\n",
    "    b1, b2, b3= network['b1'], network['b2'], network['b3']\n",
    "\n",
    "    a1= np.dot(x,W1)+b1\n",
    "    z1=sigmoid(a1)\n",
    "    a2=np.dot(z1,W2)+b2\n",
    "    z2=sigmoid(a2)\n",
    "    a3=np.dot(z2,W3)+b3\n",
    "    y=softmax(a3)\n",
    "\n",
    "    return y"
   ]
  },
  {
   "cell_type": "code",
   "execution_count": 57,
   "id": "465890ad-4258-4b9a-9a1c-49df7f8d56b4",
   "metadata": {},
   "outputs": [
    {
     "name": "stdout",
     "output_type": "stream",
     "text": [
      "Accuracy:0.9352\n"
     ]
    }
   ],
   "source": [
    "x, t= get_data()\n",
    "network=init_network()\n",
    "\n",
    "accuracy_cnt=0\n",
    "for i in range(len(x)):\n",
    "    y=predict(network, x[i])\n",
    "    p=np.argmax(y) # 확률이 가장 높은 원소의 인덱스를 구해 예측 결과로 이용\n",
    "    if p == t[i]:\n",
    "        accuracy_cnt+=1 \n",
    "\n",
    "print(\"Accuracy:\"+str(float(accuracy_cnt) / len(x)))"
   ]
  },
  {
   "cell_type": "markdown",
   "id": "3b432c42-b635-4c57-a1b7-91bbbedc54af",
   "metadata": {},
   "source": [
    "### 3-6-3. 배치 처리\n",
    "\n",
    "배치: 하나로 묶은 입력 데이터"
   ]
  },
  {
   "cell_type": "code",
   "execution_count": 58,
   "id": "ac2a64a8-f1c2-4ca8-968a-8441c9c1e480",
   "metadata": {},
   "outputs": [
    {
     "name": "stdout",
     "output_type": "stream",
     "text": [
      "(10000, 784)\n",
      "(784,)\n",
      "(784, 50)\n",
      "(50, 100)\n",
      "(100, 10)\n"
     ]
    }
   ],
   "source": [
    "# 이미지를 한장씩 입력했을 때 처리 흐름\n",
    "x,_=get_data()\n",
    "network= init_network()\n",
    "W1, W2, W3=network['W1'], network['W2'], network['W3']\n",
    "\n",
    "print(x.shape)\n",
    "print(x[0].shape)\n",
    "print(W1.shape)\n",
    "print(W2.shape)\n",
    "print(W3.shape)\n"
   ]
  },
  {
   "cell_type": "code",
   "execution_count": 59,
   "id": "259ac099-7c0a-4016-acfb-1d56030a389a",
   "metadata": {},
   "outputs": [
    {
     "name": "stdout",
     "output_type": "stream",
     "text": [
      "Accuracy:0.9352\n"
     ]
    }
   ],
   "source": [
    "# 이미지를 한번에 백 장씩 입력 처리\n",
    "x,_=get_data()\n",
    "network= init_network()\n",
    "\n",
    "batch_size= 100 # 배치 크기 \n",
    "accuracy_cnt=0\n",
    "\n",
    "for i in range(0,len(x), batch_size):\n",
    "    x_batch = x[i:i+batch_size] #batch_size만큼, 100만큼 묶어서 꺼냄\n",
    "    y_batch =predict(network, x_batch)\n",
    "    p=np.argmax(y_batch, axis=1) #100x10 배열 중 1번째 차원을 축으로 최댓값의 인덱스를 찾도록 설정\n",
    "    accuracy_cnt+=np.sum(p==t[i:i+batch_size])\n",
    "    \n",
    "print(\"Accuracy:\"+str(float(accuracy_cnt) / len(x)))"
   ]
  },
  {
   "cell_type": "code",
   "execution_count": 60,
   "id": "aa855f66-5c10-444f-86d3-b32f5e75a413",
   "metadata": {},
   "outputs": [
    {
     "name": "stdout",
     "output_type": "stream",
     "text": [
      "[0, 1, 2, 3, 4, 5, 6, 7, 8, 9]\n",
      "[0, 3, 6, 9]\n"
     ]
    }
   ],
   "source": [
    "# range(start, end, step): start부터 end-1까지, step간격으로 증가\n",
    "print(list(range(0,10)))\n",
    "print(list(range(0,10,3)))"
   ]
  },
  {
   "cell_type": "code",
   "execution_count": 61,
   "id": "725c6880-5e0d-42a5-893d-f0e6c25e35a9",
   "metadata": {},
   "outputs": [
    {
     "name": "stdout",
     "output_type": "stream",
     "text": [
      "[1 2 1 0]\n"
     ]
    }
   ],
   "source": [
    "x=np.array([[0.1,0.8,0.1],[0.3,0.1,0.6],\n",
    "            [0.2,0.5,0.3],[0.8,0.1,0.1]])\n",
    "y=np.argmax(x,axis=1)\n",
    "print(y)"
   ]
  },
  {
   "cell_type": "code",
   "execution_count": 62,
   "id": "22da6306-89bd-4fce-8e47-c0ea1e21d807",
   "metadata": {},
   "outputs": [
    {
     "name": "stdout",
     "output_type": "stream",
     "text": [
      "[ True  True False  True]\n",
      "3\n"
     ]
    }
   ],
   "source": [
    "y=np.array([1,2,1,0])\n",
    "t=np.array([1,2,0,0])\n",
    "\n",
    "print(y==t)\n",
    "print(np.sum(y==t))"
   ]
  },
  {
   "cell_type": "markdown",
   "id": "13581499-5564-4be4-bfa6-314abb2f63a4",
   "metadata": {},
   "source": [
    "데이터를 배치로 처리함으로써 효울적이고 빠른 처리가 가능하다."
   ]
  }
 ],
 "metadata": {
  "kernelspec": {
   "display_name": "Python 3 (ipykernel)",
   "language": "python",
   "name": "python3"
  },
  "language_info": {
   "codemirror_mode": {
    "name": "ipython",
    "version": 3
   },
   "file_extension": ".py",
   "mimetype": "text/x-python",
   "name": "python",
   "nbconvert_exporter": "python",
   "pygments_lexer": "ipython3",
   "version": "3.10.0"
  }
 },
 "nbformat": 4,
 "nbformat_minor": 5
}
