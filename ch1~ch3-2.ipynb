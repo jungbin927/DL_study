{
 "cells": [
  {
   "cell_type": "markdown",
   "id": "d55f5816-1cac-4e8a-af30-16a27bcec1c9",
   "metadata": {},
   "source": [
    "# 딥러닝 기초\n",
    "\n",
    "## CH1~CH3.2 과제\n",
    "\n",
    "## 2020100381 안정빈"
   ]
  },
  {
   "cell_type": "markdown",
   "id": "8dec8ee0-f907-4031-9978-ec773ce815b3",
   "metadata": {},
   "source": [
    "### 1-3-1. 산술 연산"
   ]
  },
  {
   "cell_type": "code",
   "execution_count": 1,
   "id": "ccd3dd9f-a296-44ff-940d-f18389906cd5",
   "metadata": {},
   "outputs": [
    {
     "name": "stdout",
     "output_type": "stream",
     "text": [
      "-1\n",
      "20\n",
      "1.4\n",
      "9\n"
     ]
    }
   ],
   "source": [
    "print(1-2)\n",
    "print(4*5)\n",
    "print(7/5)\n",
    "print(3**2)"
   ]
  },
  {
   "cell_type": "markdown",
   "id": "e19a876f-9e68-439e-8d5d-5036a3d8d975",
   "metadata": {},
   "source": [
    "### 1-3-2. 자료형"
   ]
  },
  {
   "cell_type": "code",
   "execution_count": 2,
   "id": "6849d3f0-38a4-45ad-a189-493357a39f68",
   "metadata": {},
   "outputs": [
    {
     "name": "stdout",
     "output_type": "stream",
     "text": [
      "<class 'int'>\n",
      "<class 'float'>\n",
      "<class 'str'>\n"
     ]
    }
   ],
   "source": [
    "print(type(10))\n",
    "print(type(2.718))\n",
    "print(type(\"hello\"))"
   ]
  },
  {
   "cell_type": "markdown",
   "id": "2a91cd94-77ca-43ac-b612-d9de091c8f74",
   "metadata": {},
   "source": [
    "# 1-3-3. 변수"
   ]
  },
  {
   "cell_type": "code",
   "execution_count": 3,
   "id": "85e22875-b03d-487b-818a-7e5f698e4ef2",
   "metadata": {},
   "outputs": [
    {
     "name": "stdout",
     "output_type": "stream",
     "text": [
      "10\n"
     ]
    }
   ],
   "source": [
    "x=10 \n",
    "print(x)"
   ]
  },
  {
   "cell_type": "code",
   "execution_count": 4,
   "id": "a42bffd6-ba37-4cc8-897c-6b4231bc4e0f",
   "metadata": {},
   "outputs": [
    {
     "name": "stdout",
     "output_type": "stream",
     "text": [
      "100\n"
     ]
    }
   ],
   "source": [
    "x=100 \n",
    "print(x)"
   ]
  },
  {
   "cell_type": "code",
   "execution_count": 5,
   "id": "9d70c23f-23be-422b-8569-3eb37104168e",
   "metadata": {},
   "outputs": [
    {
     "name": "stdout",
     "output_type": "stream",
     "text": [
      "314.0\n",
      "<class 'float'>\n"
     ]
    }
   ],
   "source": [
    "y=3.14\n",
    "print(x*y)\n",
    "print(type(x*y))"
   ]
  },
  {
   "cell_type": "markdown",
   "id": "54695918-a878-4b1d-bdc7-30e0f8e5d7d0",
   "metadata": {},
   "source": [
    "### 1-3-4. 리스트"
   ]
  },
  {
   "cell_type": "code",
   "execution_count": 6,
   "id": "b4a80c8f-5b75-47b6-960f-2084c19b538b",
   "metadata": {},
   "outputs": [
    {
     "name": "stdout",
     "output_type": "stream",
     "text": [
      "[1, 2, 3, 4, 5]\n"
     ]
    }
   ],
   "source": [
    "a=[1,2,3,4,5] # 리스트 생성\n",
    "print(a)"
   ]
  },
  {
   "cell_type": "code",
   "execution_count": 7,
   "id": "99f75a2c-4b75-48f9-9bdf-1e1d347bf8ed",
   "metadata": {},
   "outputs": [
    {
     "data": {
      "text/plain": [
       "5"
      ]
     },
     "execution_count": 7,
     "metadata": {},
     "output_type": "execute_result"
    }
   ],
   "source": [
    "len(a) # 리스트 길이 출력"
   ]
  },
  {
   "cell_type": "code",
   "execution_count": 8,
   "id": "8652a1ec-484c-4ef1-9c38-fe671a5e3380",
   "metadata": {},
   "outputs": [
    {
     "name": "stdout",
     "output_type": "stream",
     "text": [
      "1\n",
      "5\n"
     ]
    }
   ],
   "source": [
    "print(a[0]) # 첫 원소에 접근\n",
    "print(a[4]) # 다섯 번째 원소에 접근"
   ]
  },
  {
   "cell_type": "code",
   "execution_count": 9,
   "id": "6a93e5f2-5e6e-4b8f-a2b5-d88984c3b6d5",
   "metadata": {},
   "outputs": [
    {
     "name": "stdout",
     "output_type": "stream",
     "text": [
      "[1, 2, 3, 4, 99]\n"
     ]
    }
   ],
   "source": [
    "a[4]=99 # 값 대입\n",
    "print(a)"
   ]
  },
  {
   "cell_type": "code",
   "execution_count": 10,
   "id": "a68a7244-276c-4253-990e-b4164e4e7fd2",
   "metadata": {},
   "outputs": [
    {
     "name": "stdout",
     "output_type": "stream",
     "text": [
      "[1, 2]\n",
      "[2, 3, 4, 99]\n",
      "[1, 2, 3]\n",
      "[1, 2, 3, 4]\n",
      "[1, 2, 3]\n"
     ]
    }
   ],
   "source": [
    "# 슬라이싱\n",
    "print(a[0:2]) # 인덱스 0부터 2까지 얻기(2번째는 포함X)\n",
    "print(a[1:]) # 인덱스 1부터 끝까지 얻기\n",
    "print(a[:3]) # 처음부터 인덱스 3까지 얻기\n",
    "print(a[:-1]) # 처음부터 마지막 원소의 1개 앞까지 얻기\n",
    "print(a[:-2]) # 처음부터 마지막 원소의 2개 앞까지 얻기"
   ]
  },
  {
   "cell_type": "markdown",
   "id": "0bd1c16d-1c24-4169-84c0-d3f6606af3d0",
   "metadata": {},
   "source": [
    "### 1-3-5. 딕셔너리\n",
    "\n",
    "키와 값을 한 쌍으로 저장하는 구조"
   ]
  },
  {
   "cell_type": "code",
   "execution_count": 11,
   "id": "0feacff8-c852-42a5-bea5-8db940fb4681",
   "metadata": {},
   "outputs": [
    {
     "data": {
      "text/plain": [
       "180"
      ]
     },
     "execution_count": 11,
     "metadata": {},
     "output_type": "execute_result"
    }
   ],
   "source": [
    "me={'height':180} # 딕셔너리 생성\n",
    "me['height'] # 원소에 접근"
   ]
  },
  {
   "cell_type": "code",
   "execution_count": 12,
   "id": "71255ba7-b9bc-4a62-a73a-77a2f97645e5",
   "metadata": {},
   "outputs": [
    {
     "name": "stdout",
     "output_type": "stream",
     "text": [
      "{'height': 180, 'weight': 70}\n"
     ]
    }
   ],
   "source": [
    "me['weight']=70 # 새 원소 추가 \n",
    "print(me)"
   ]
  },
  {
   "cell_type": "markdown",
   "id": "c490b9ad-8bb8-4625-a7ac-44b6a3854053",
   "metadata": {},
   "source": [
    "### 1-3-6. bool\n",
    "\n",
    "True, False라는 두 값 중 하나를 취하는 자료형, and, or, not 연산자 사용"
   ]
  },
  {
   "cell_type": "code",
   "execution_count": 13,
   "id": "8e5ca1ef-0880-4f6d-9da7-2f9d9e271157",
   "metadata": {},
   "outputs": [
    {
     "name": "stdout",
     "output_type": "stream",
     "text": [
      "<class 'bool'>\n",
      "False\n",
      "False\n",
      "True\n"
     ]
    }
   ],
   "source": [
    "hungry=True \n",
    "sleepy=False\n",
    "\n",
    "print(type(hungry))\n",
    "\n",
    "print(not hungry)\n",
    "\n",
    "print( hungry and sleepy)\n",
    "\n",
    "print( hungry or sleepy)"
   ]
  },
  {
   "cell_type": "markdown",
   "id": "cfa69ca1-3f1b-4234-b219-5ae2df662d60",
   "metadata": {},
   "source": [
    "### 1-3-7. if 문"
   ]
  },
  {
   "cell_type": "code",
   "execution_count": 14,
   "id": "042ae6e7-88ec-443f-a4d9-c366c49e2721",
   "metadata": {},
   "outputs": [
    {
     "name": "stdout",
     "output_type": "stream",
     "text": [
      "i'm hungry\n"
     ]
    }
   ],
   "source": [
    "hungry=True\n",
    "if hungry:\n",
    "    print(\"i'm hungry\")"
   ]
  },
  {
   "cell_type": "code",
   "execution_count": 15,
   "id": "cf37177c-d501-4af0-bcc9-d02865c955a5",
   "metadata": {},
   "outputs": [
    {
     "name": "stdout",
     "output_type": "stream",
     "text": [
      "i'm not hungry\n",
      "i'm sleepy\n"
     ]
    }
   ],
   "source": [
    "hungry=False\n",
    "if hungry:\n",
    "    print(\"i'm hungry\")\n",
    "else:\n",
    "    print(\"i'm not hungry\")\n",
    "    print(\"i'm sleepy\")"
   ]
  },
  {
   "cell_type": "markdown",
   "id": "b7685af3-0bce-4648-80a6-de5490de090b",
   "metadata": {},
   "source": [
    "### 1-3-8. for 문"
   ]
  },
  {
   "cell_type": "code",
   "execution_count": 16,
   "id": "a9158736-5f43-407b-9b72-2e57ce633fd2",
   "metadata": {},
   "outputs": [
    {
     "name": "stdout",
     "output_type": "stream",
     "text": [
      "1\n",
      "2\n",
      "3\n"
     ]
    }
   ],
   "source": [
    "for i in[1,2,3]:\n",
    "    print(i)"
   ]
  },
  {
   "cell_type": "markdown",
   "id": "6b9a00c8-e922-4dcb-a01d-a9e8e75b6f3b",
   "metadata": {},
   "source": [
    "### 1-3-9. 함수"
   ]
  },
  {
   "cell_type": "code",
   "execution_count": 17,
   "id": "63e5cab7-1e1a-4455-8192-a11873de2f66",
   "metadata": {},
   "outputs": [
    {
     "name": "stdout",
     "output_type": "stream",
     "text": [
      "hello world!\n"
     ]
    }
   ],
   "source": [
    "def hello():\n",
    "    print(\"hello world!\")\n",
    "\n",
    "hello()"
   ]
  },
  {
   "cell_type": "code",
   "execution_count": 18,
   "id": "c9ef4cf3-1429-47b4-9ffc-b383a06f5ec7",
   "metadata": {},
   "outputs": [
    {
     "name": "stdout",
     "output_type": "stream",
     "text": [
      "hello cat!\n"
     ]
    }
   ],
   "source": [
    "def hello(object):\n",
    "    print(\"hello \" + object +\"!\")\n",
    "\n",
    "hello(\"cat\")"
   ]
  },
  {
   "cell_type": "markdown",
   "id": "b58dd9a2-d257-4acf-8f04-2cc21ad786c3",
   "metadata": {},
   "source": [
    "### 1-4-2. 클래스"
   ]
  },
  {
   "cell_type": "code",
   "execution_count": 19,
   "id": "df35ff6c-282b-4ba4-9b8b-bee9e72bbeb7",
   "metadata": {},
   "outputs": [
    {
     "name": "stdout",
     "output_type": "stream",
     "text": [
      "Intilized!\n",
      "helloDavid!\n",
      "Good-byeDavid!\n"
     ]
    }
   ],
   "source": [
    "class Man:\n",
    "    def __init__(self, name): # 생성자\n",
    "        self.name= name\n",
    "        print(\"Intilized!\")\n",
    "\n",
    "    def hello(self):  # 메서드 1\n",
    "        print(\"hello\" + self.name + \"!\")\n",
    "\n",
    "    def goodbye(self): # 메서드 2\n",
    "        print(\"Good-bye\"+self.name + \"!\")\n",
    "\n",
    "m=Man(\"David\")\n",
    "m.hello()\n",
    "m.goodbye()"
   ]
  },
  {
   "cell_type": "markdown",
   "id": "11a30c71-02f1-4893-8fda-af309db3f3d5",
   "metadata": {},
   "source": [
    "### 1-5-2. 넘파이 배열 생성하기"
   ]
  },
  {
   "cell_type": "code",
   "execution_count": 20,
   "id": "325c09be-7703-4c98-9e08-6eb75ca1dadf",
   "metadata": {},
   "outputs": [
    {
     "name": "stdout",
     "output_type": "stream",
     "text": [
      "[1. 2. 3.]\n",
      "<class 'numpy.ndarray'>\n"
     ]
    }
   ],
   "source": [
    "import numpy as np\n",
    "\n",
    "x=np.array([1.0,2.0,3.0]) # np.array() 넘파이 배열 생성 함수 \n",
    "print(x)\n",
    "print(type(x))"
   ]
  },
  {
   "cell_type": "markdown",
   "id": "9f9c8226-b591-4ada-a40e-50355457f826",
   "metadata": {},
   "source": [
    "### 1-5-3. 넘파이의 산술 연산"
   ]
  },
  {
   "cell_type": "code",
   "execution_count": 21,
   "id": "3db065ba-b352-40f4-8b52-c2b8026e245c",
   "metadata": {},
   "outputs": [
    {
     "name": "stdout",
     "output_type": "stream",
     "text": [
      "[3. 6. 9.]\n",
      "[-1. -2. -3.]\n",
      "[ 2.  8. 18.]\n",
      "[0.5 0.5 0.5]\n"
     ]
    }
   ],
   "source": [
    "x=np.array([1.0,2.0,3.0])\n",
    "y=np.array([2.0,4.0,6.0])\n",
    "print(x+y)\n",
    "\n",
    "print(x-y)\n",
    "\n",
    "print(x*y)\n",
    "\n",
    "print(x/y)"
   ]
  },
  {
   "cell_type": "markdown",
   "id": "ce34055f-8862-4fc5-b0b7-41ea0962f251",
   "metadata": {},
   "source": [
    "### 1-5-4. 넘파이의 N차원 배열"
   ]
  },
  {
   "cell_type": "code",
   "execution_count": 22,
   "id": "db405280-f05a-4b80-8fa5-9e405bf8027e",
   "metadata": {},
   "outputs": [
    {
     "name": "stdout",
     "output_type": "stream",
     "text": [
      "[[1 2]\n",
      " [3 4]]\n",
      "----------\n",
      "(2, 2)\n",
      "----------\n",
      "int64\n"
     ]
    }
   ],
   "source": [
    "A=np.array([[1,2],[3,4]]) # 2차원 배열\n",
    "print(A)\n",
    "print(\"-\"*10)\n",
    "print(A.shape)\n",
    "print(\"-\"*10)\n",
    "print(A.dtype)"
   ]
  },
  {
   "cell_type": "code",
   "execution_count": 23,
   "id": "9465d1d0-9702-4635-84e2-30f0f3d52342",
   "metadata": {},
   "outputs": [
    {
     "name": "stdout",
     "output_type": "stream",
     "text": [
      "[[ 4  2]\n",
      " [ 3 10]]\n",
      "----------\n",
      "[[ 3  0]\n",
      " [ 0 24]]\n"
     ]
    }
   ],
   "source": [
    "B=np.array([[3,0],[0,6]])\n",
    "print(A+B)\n",
    "print(\"-\"*10)\n",
    "print(A*B)"
   ]
  },
  {
   "cell_type": "code",
   "execution_count": 24,
   "id": "4e352f6a-57f5-4b06-ab4b-4377999a3ebc",
   "metadata": {},
   "outputs": [
    {
     "name": "stdout",
     "output_type": "stream",
     "text": [
      "[[1 2]\n",
      " [3 4]]\n",
      "----------\n",
      "[[10 20]\n",
      " [30 40]]\n"
     ]
    }
   ],
   "source": [
    "print(A)\n",
    "print(\"-\"*10)\n",
    "print(A*10)"
   ]
  },
  {
   "cell_type": "markdown",
   "id": "49c44ccb-da4e-4913-af0a-802b2d715f45",
   "metadata": {},
   "source": [
    "### 1-5-5. 브로드캐스트"
   ]
  },
  {
   "cell_type": "code",
   "execution_count": 25,
   "id": "2292d2f4-eaa1-4906-973e-bd89e79fd4fb",
   "metadata": {},
   "outputs": [
    {
     "data": {
      "text/plain": [
       "array([[10, 40],\n",
       "       [30, 80]])"
      ]
     },
     "execution_count": 25,
     "metadata": {},
     "output_type": "execute_result"
    }
   ],
   "source": [
    "A=np.array([[1,2],[3,4]])\n",
    "B=np.array([10,20])\n",
    "A*B"
   ]
  },
  {
   "cell_type": "markdown",
   "id": "8e73b845-1fe2-42d6-bc79-dfaacb22c921",
   "metadata": {},
   "source": [
    "### 1-5-6. 원소 접근"
   ]
  },
  {
   "cell_type": "code",
   "execution_count": 26,
   "id": "550c9512-5746-4d16-baff-208c62e89626",
   "metadata": {},
   "outputs": [
    {
     "name": "stdout",
     "output_type": "stream",
     "text": [
      "[[51 55]\n",
      " [14 19]\n",
      " [ 0  4]]\n",
      "----------\n",
      "[51 55]\n",
      "----------\n",
      "55\n"
     ]
    }
   ],
   "source": [
    "X=np.array([[51,55],[14,19],[0,4]])\n",
    "print(X)\n",
    "print(\"-\"*10)\n",
    "print(X[0]) # 0행\n",
    "print(\"-\"*10)\n",
    "print(X[0][1]) # (0,1) 위치의 원소"
   ]
  },
  {
   "cell_type": "code",
   "execution_count": 27,
   "id": "01b3b386-ba16-428d-998f-7bdcc7455db5",
   "metadata": {},
   "outputs": [
    {
     "name": "stdout",
     "output_type": "stream",
     "text": [
      "[51 55]\n",
      "[14 19]\n",
      "[0 4]\n"
     ]
    }
   ],
   "source": [
    "for row in X:\n",
    "    print(row)"
   ]
  },
  {
   "cell_type": "code",
   "execution_count": 28,
   "id": "9b98d86a-d4c1-49fd-9629-96bdcb94ddb7",
   "metadata": {},
   "outputs": [
    {
     "name": "stdout",
     "output_type": "stream",
     "text": [
      "[51 55 14 19  0  4]\n",
      "--------------------\n"
     ]
    },
    {
     "data": {
      "text/plain": [
       "array([51, 14,  0])"
      ]
     },
     "execution_count": 28,
     "metadata": {},
     "output_type": "execute_result"
    }
   ],
   "source": [
    "X=X.flatten() # X를 1차원 배열로 변환\n",
    "print(X)\n",
    "print(\"-\"*20)\n",
    "X[np.array([0,2,4])] # 인덱스가 0,2,4인 원소 얻기"
   ]
  },
  {
   "cell_type": "code",
   "execution_count": 29,
   "id": "e38659bb-d91a-4c64-9827-9cef36ac00ac",
   "metadata": {},
   "outputs": [
    {
     "name": "stdout",
     "output_type": "stream",
     "text": [
      "[ True  True False  True False False]\n",
      "----------\n",
      "[51 55 19]\n"
     ]
    }
   ],
   "source": [
    "print(X>15)\n",
    "print(\"-\"*10)\n",
    "print(X[X>15])"
   ]
  },
  {
   "cell_type": "markdown",
   "id": "78f47b40-1eae-4d30-8359-671672d8ec45",
   "metadata": {},
   "source": [
    "### 1-6-1. 단순한 그래프 그리기"
   ]
  },
  {
   "cell_type": "code",
   "execution_count": 30,
   "id": "4a481dde-ec31-44cd-9cc4-1696f16da1df",
   "metadata": {},
   "outputs": [
    {
     "data": {
      "image/png": "[encoded data removed]",
      "text/plain": [
       "<Figure size 640x480 with 1 Axes>"
      ]
     },
     "metadata": {},
     "output_type": "display_data"
    }
   ],
   "source": [
    "import matplotlib.pyplot as plt \n",
    "\n",
    "x=np.arange(0,6,0.1) # 0에서 6까지 0.1 간격으로 생성\n",
    "y=np.sin(x)\n",
    "\n",
    "plt.plot(x,y)\n",
    "plt.show()"
   ]
  },
  {
   "cell_type": "markdown",
   "id": "f062ec63-14c0-476a-8837-ccaf5ad676e9",
   "metadata": {},
   "source": [
    "### 1-6-2. pyplot의 기능"
   ]
  },
  {
   "cell_type": "code",
   "execution_count": 31,
   "id": "35d474b5-8449-45b0-959a-b9a941a41527",
   "metadata": {},
   "outputs": [
    {
     "data": {
      "image/png": "[encoded data removed]",
      "text/plain": [
       "<Figure size 640x480 with 1 Axes>"
      ]
     },
     "metadata": {},
     "output_type": "display_data"
    }
   ],
   "source": [
    "x=np.arange(0,6,0.1) \n",
    "y1=np.sin(x)\n",
    "y2=np.cos(x)\n",
    "\n",
    "# 그래프 그리기 \n",
    "plt.plot(x,y1, label=\"sin\")\n",
    "plt.plot(x,y2, linestyle=\"--\", label=\"cos\")\n",
    "plt.xlabel(\"x\") # x축 이름\n",
    "plt.ylabel(\"y\") # y축 이름\n",
    "plt.title(\"sin & cos\") # 제목\n",
    "plt.legend()\n",
    "plt.show()"
   ]
  },
  {
   "cell_type": "markdown",
   "id": "d761c383-b974-49b3-9204-ed9e97edcb0a",
   "metadata": {},
   "source": [
    "### 1-6-3. 이미지 표시하기 "
   ]
  },
  {
   "cell_type": "code",
   "execution_count": 32,
   "id": "754d440b-cf42-41c2-833e-bcc0de853e97",
   "metadata": {},
   "outputs": [
    {
     "data": {
      "text/plain": [
       "\"\\nfrom matplotlib.image import imread\\n\\nimg=imread('./exam_picture.png')\\n\\nplt.imshow(img)\\nplt.show()\\n\""
      ]
     },
     "execution_count": 32,
     "metadata": {},
     "output_type": "execute_result"
    }
   ],
   "source": [
    "\"\"\"\n",
    "from matplotlib.image import imread\n",
    "\n",
    "img=imread('./exam_picture.png')\n",
    "\n",
    "plt.imshow(img)\n",
    "plt.show()\n",
    "\"\"\""
   ]
  },
  {
   "cell_type": "markdown",
   "id": "86ce2e8b-7fa9-469b-8f20-de8306cbb147",
   "metadata": {},
   "source": [
    "## 2. 퍼셉트론\n",
    "\n",
    "1. 퍼셉트론은 신경망의 기원이 되는 알고리즘으로, 다수의 신호를 입력으로 받아 하나의 신호를 출력\n",
    "2. 퍼셉트론 신호는 1,0 두가지 값을 가짐\n",
    "3. 입력 신호는 각각 고유한 가중치와 곱해져서, 뉴런에 전달, 뉴런에서 받은 신호의 총합이 정해진 한계(입계값)를 넘어설 때 1 출력.\n",
    "4. 가중치는 각 신호가 결과에 주는 영향력을 조절하는 요소로 작용/ 가중치가 클수록 해당 신호가 중요함을 뜻함\n",
    "\n",
    "y=0 : w1x1 + w2x2 <= θ\n",
    "\n",
    "y=1: w1x1 + w2x2 > θ\n",
    "\n",
    "x1,x2: 입력 신호, w1,w2: 가중치, y:출력 신호, θ:임계값"
   ]
  },
  {
   "cell_type": "markdown",
   "id": "08afea01-2a3e-47e2-a85e-c89e95985ba1",
   "metadata": {},
   "source": [
    "### 2-2. 단순한 논리 회로\n",
    "\n",
    "1. AND 게이트: 두 입력이 모두 1일 때만 1을 출력\n",
    "2. NAND 게이트: AND 게이트와 반대로, 모두 1일 때만 0을 출력\n",
    "3. OR 게이트: 두 입력 중, 하나 이상이 1이면 1이 출력"
   ]
  },
  {
   "cell_type": "markdown",
   "id": "f2812fad-8104-4e61-8a58-c2b2ffe3a88f",
   "metadata": {},
   "source": [
    "### 2-3-1. 퍼셉트론 간단한 구현하기\n",
    "\n",
    "가중치와 임곗값 설정을 통해 and, nand, or 게이트 구현"
   ]
  },
  {
   "cell_type": "code",
   "execution_count": 33,
   "id": "d632618b-e4c1-4c71-b5d6-ae3f9cd36730",
   "metadata": {},
   "outputs": [],
   "source": [
    "def AND(x1, x2):\n",
    "    w1, w2, theta= 0.5, 0.7, 0. # 가중치 및 임계값\n",
    "    tmp=x1*w1 +x2*w2\n",
    "    if tmp <=theta:\n",
    "        return 0\n",
    "    elif tmp> theta:\n",
    "        return 1"
   ]
  },
  {
   "cell_type": "code",
   "execution_count": 34,
   "id": "ce921de9-b573-468d-a347-2e3a7032a242",
   "metadata": {},
   "outputs": [
    {
     "name": "stdout",
     "output_type": "stream",
     "text": [
      "0\n",
      "1\n",
      "1\n",
      "1\n"
     ]
    }
   ],
   "source": [
    "print(AND(0,0))\n",
    "print(AND(1,0))\n",
    "print(AND(0,1))\n",
    "print(AND(1,1))"
   ]
  },
  {
   "cell_type": "markdown",
   "id": "83e1d228-be6a-4b2e-9720-958f7dd43136",
   "metadata": {},
   "source": [
    "### 2-3-2. 가중치와 편향 도입\n",
    "\n",
    "y=0 : b + w1x1 + w2x2 <=0\n",
    "\n",
    "y=1: b + w1x1 + w2x2 >θ\n",
    "\n",
    "b:편향/ θ를 -b로 치환 / 편향은 뉴런이 얼마나 쉽게 활성화(결과가 1)하느냐를 조정하는 매개변수."
   ]
  },
  {
   "cell_type": "code",
   "execution_count": 35,
   "id": "af59f682-28c0-42ab-858c-cf936e3c8359",
   "metadata": {},
   "outputs": [
    {
     "name": "stdout",
     "output_type": "stream",
     "text": [
      "[0.  0.5]\n",
      "0.5\n",
      "-0.19999999999999996\n"
     ]
    }
   ],
   "source": [
    "x=np.array([0,1]) # 입력\n",
    "w=np.array([0.5,0.5]) # 가중치\n",
    "b=-0.7 # 편향 \n",
    "\n",
    "print(w*x)\n",
    "print(np.sum(w*x))\n",
    "print(np.sum(w*x)+b) # 대략 -0.2"
   ]
  },
  {
   "cell_type": "markdown",
   "id": "2332e41b-0213-48ea-a649-4caee27c8ff2",
   "metadata": {},
   "source": [
    "### 2-3-3. 가중치와 편향 구현하기"
   ]
  },
  {
   "cell_type": "code",
   "execution_count": 36,
   "id": "b6658926-04e6-4359-a364-fa18bbf1a119",
   "metadata": {},
   "outputs": [],
   "source": [
    "def AND(x1, x2):\n",
    "    x=np.array([x1, x2])\n",
    "    w= np.array([0.5, 0.5])\n",
    "    b= - 0.7\n",
    "    tmp= np.sum(w*x) +b\n",
    "    if tmp <=0:\n",
    "        return 0\n",
    "    else:\n",
    "        return 1"
   ]
  },
  {
   "cell_type": "code",
   "execution_count": 37,
   "id": "38b4bf5f-7d87-484c-b6a8-736079a62ecd",
   "metadata": {},
   "outputs": [
    {
     "name": "stdout",
     "output_type": "stream",
     "text": [
      "0\n",
      "0\n",
      "0\n",
      "1\n"
     ]
    }
   ],
   "source": [
    "print(AND(0,0))\n",
    "print(AND(1,0))\n",
    "print(AND(0,1))\n",
    "print(AND(1,1))"
   ]
  },
  {
   "cell_type": "code",
   "execution_count": 38,
   "id": "2eb7c656-53f2-4dfa-a7d4-bf3b69eaa216",
   "metadata": {},
   "outputs": [],
   "source": [
    "def NAND(x1, x2):\n",
    "    x=np.array([x1, x2])\n",
    "    w= np.array([-0.5, -0.5])\n",
    "    b= 0.7\n",
    "    tmp= np.sum(w*x) +b\n",
    "    if tmp <=0:\n",
    "        return 0\n",
    "    else:\n",
    "        return 1"
   ]
  },
  {
   "cell_type": "code",
   "execution_count": 39,
   "id": "1a057011-4bab-48d7-88ae-b0faed6746bb",
   "metadata": {},
   "outputs": [
    {
     "name": "stdout",
     "output_type": "stream",
     "text": [
      "1\n",
      "1\n",
      "1\n",
      "0\n"
     ]
    }
   ],
   "source": [
    "print(NAND(0,0))\n",
    "print(NAND(1,0))\n",
    "print(NAND(0,1))\n",
    "print(NAND(1,1))"
   ]
  },
  {
   "cell_type": "code",
   "execution_count": 40,
   "id": "5c6af798-fbd8-45f5-8e9e-41284cdf86d6",
   "metadata": {},
   "outputs": [],
   "source": [
    "def OR(x1,x2):\n",
    "    x=np.array([x1, x2])\n",
    "    w=np.array([0.5, 0.5])\n",
    "    b=-0.2\n",
    "    tmp=np.sum(w*x)+b\n",
    "    if tmp <=0:\n",
    "        return 0\n",
    "    else: \n",
    "        return 1"
   ]
  },
  {
   "cell_type": "code",
   "execution_count": 41,
   "id": "34fe3bd7-6887-41fa-87cb-5bd1d56827dd",
   "metadata": {},
   "outputs": [
    {
     "name": "stdout",
     "output_type": "stream",
     "text": [
      "0\n",
      "1\n",
      "1\n",
      "1\n"
     ]
    }
   ],
   "source": [
    "print(OR(0,0))\n",
    "print(OR(1,0))\n",
    "print(OR(0,1))\n",
    "print(OR(1,1))"
   ]
  },
  {
   "cell_type": "markdown",
   "id": "6795da92-c2cd-4572-b0c6-27cefe179a55",
   "metadata": {},
   "source": [
    "### 2-5-2. XOR 게이트 구현하기\n",
    "\n",
    "XOR게이트: 배타적 논리합이라는 논리 회로, x1과 x2 중 한쪽이 1일 때만 1을 출력\n",
    "\n",
    "단층 퍼셉트론은 직선 하나로 나눈 영역만 표현할 수 있다는 한계 존재, 즉 XOR 게이트와 같은 곡선, 비선형 영역을 분리 불가\n",
    "\n",
    "=> 층이 여러 개인 퍼셉트론(다층 퍼셉트론)을 이용해 구현/ 단층 퍼셉트론은 선형 영역만 표현할 수 있고, 다층 퍼셉트론은 비선형 영역도 표현할 수 있다.\n",
    "\n",
    "아래의 예제는 2층 퍼셉트론으로, 1. 0층의 두 뉴런이 입력 신호를 받아 1층의 뉴런으로 신호를 보냄 2. 1층의 뉴런이 2층의 뉴런으로 신호를 보내고, 2층의 뉴런은 y를 출력하는 형태\n"
   ]
  },
  {
   "cell_type": "code",
   "execution_count": 42,
   "id": "fd284d68-c979-44f5-aa0c-76b21b9c68b6",
   "metadata": {},
   "outputs": [],
   "source": [
    "def XOR(x1, x2):\n",
    "    s1= NAND(x1, x2)\n",
    "    s2=OR(x1,x2)\n",
    "    y=AND(s1,s2)\n",
    "    return y"
   ]
  },
  {
   "cell_type": "code",
   "execution_count": 43,
   "id": "bb3780f0-3d2b-4d97-9bef-f9288e9bc576",
   "metadata": {},
   "outputs": [
    {
     "name": "stdout",
     "output_type": "stream",
     "text": [
      "0\n",
      "1\n",
      "1\n",
      "0\n"
     ]
    }
   ],
   "source": [
    "print(XOR(0,0))\n",
    "print(XOR(1,0))\n",
    "print(XOR(0,1))\n",
    "print(XOR(1,1))"
   ]
  },
  {
   "cell_type": "markdown",
   "id": "304d178c-609b-4178-a915-e3043d717968",
   "metadata": {},
   "source": [
    "## 3. 신경망\n",
    "\n",
    "1. 퍼셉트론은 컴퓨터가 수행하는 복잡한 처리도 구현이 가능하지만, 가중치를 수동으로 설정해야 한다는 단점 존재\n",
    "/ 신경망은 가중치 매개변수의 적절한 값을 데이터로부터 자동으로 학습하는 능력을 갖추고 있음.\n",
    "2. 신경망은 입력층, 은닉층, 출력층으로 구성\n",
    "3. 은닉층의 뉴런은 입력층, 출력층과 달리 사람 눈에 보이지 않음 "
   ]
  },
  {
   "cell_type": "markdown",
   "id": "304e2e82-db5d-4fb3-8fbd-ffd9af868c2f",
   "metadata": {},
   "source": [
    "### 3-2. 활성화 함수\n",
    "y=0 : b + w1x1 + w2x2 <=0 / y=1: b + w1x1 + w2x2 >θ\n",
    "\n",
    "조건 분기의 동작(0을 넘으면 1 출력, 그렇지 않으면 0출력)을 하나의 함수로 변경\n",
    "\n",
    "y=h(b+ w1x1 + w2x2)\n",
    "\n",
    "h(x)= 0 (x<=0) / h(x)= 1 (x>0)\n",
    "\n",
    "h(x): 활성화 함수/ 입력 신호의 총합을 출력 신호로 변환하는 함수\n",
    "\n",
    "a= b+ w1x1 + w2x2 / y=h(a) => a: 가중치가 달린 입력 신호와 편향의 총합을 계산한 값"
   ]
  },
  {
   "cell_type": "markdown",
   "id": "3e7fb1d4-bb21-4a9e-9b6b-d734e5170881",
   "metadata": {},
   "source": [
    "계단 함수: 임곗값을 경계로 출력이 바뀌는 활성화 함수 \n",
    "\n",
    "퍼셉트론은 활성화 함수로 계단 함수 이용"
   ]
  },
  {
   "cell_type": "markdown",
   "id": "abfc92cd-ffb8-4b10-af88-846c4aa08232",
   "metadata": {},
   "source": [
    "### 3-2-1. 시그모이드 함수\n",
    "\n",
    "h(x)=1/1+exp(-x) /exp는 지수 e를 뜻함\n",
    "\n",
    "신경망에선 활성화 함수로, 시그모이드 함수 이용하여 신호를 변환하고, 그 변환된 신호를 다음 뉴런에 전달 "
   ]
  },
  {
   "cell_type": "markdown",
   "id": "9e75ea3a-07a7-41ec-b1ab-86dcc00e9c7a",
   "metadata": {},
   "source": [
    "### 3-2-2. 계단 함수 구현하기"
   ]
  },
  {
   "cell_type": "code",
   "execution_count": 44,
   "id": "87117b9c-9546-422e-b188-9b93c4b5e648",
   "metadata": {},
   "outputs": [],
   "source": [
    "def step_function(x):\n",
    "    if x> 0:\n",
    "        return 1\n",
    "    else: \n",
    "        return 0\n",
    "    "
   ]
  },
  {
   "cell_type": "code",
   "execution_count": 45,
   "id": "51d2e74e-2681-4042-8a32-f9a651e9a5ca",
   "metadata": {},
   "outputs": [],
   "source": [
    "def step_function(x):\n",
    "    y= x>0\n",
    "    return y.astype(int) # 넘파이 배열을 지원하도록 수정"
   ]
  },
  {
   "cell_type": "code",
   "execution_count": 46,
   "id": "abf2f294-16b0-4c35-968e-fc730ed1f200",
   "metadata": {},
   "outputs": [
    {
     "name": "stdout",
     "output_type": "stream",
     "text": [
      "[-1.  1.  2.]\n",
      "[False  True  True]\n"
     ]
    }
   ],
   "source": [
    "x=np.array([-1.0,1.0,2.0])\n",
    "print(x)\n",
    "y= x>0\n",
    "print(y)"
   ]
  },
  {
   "cell_type": "code",
   "execution_count": 47,
   "id": "17e93437-7a29-4c0f-aa51-97d4ebd2c285",
   "metadata": {},
   "outputs": [
    {
     "data": {
      "text/plain": [
       "array([0, 1, 1])"
      ]
     },
     "execution_count": 47,
     "metadata": {},
     "output_type": "execute_result"
    }
   ],
   "source": [
    "y=y.astype(int)\n",
    "y"
   ]
  },
  {
   "cell_type": "markdown",
   "id": "51e1984e-12d8-4a7c-9a1d-9a8258ac575e",
   "metadata": {},
   "source": [
    "### 3-2-3. 계단 함수의 그래프"
   ]
  },
  {
   "cell_type": "code",
   "execution_count": 48,
   "id": "c2cf1390-3a9f-47d1-bb1d-990c43b2064f",
   "metadata": {},
   "outputs": [
    {
     "data": {
      "image/png": "[encoded data removed]",
      "text/plain": [
       "<Figure size 640x480 with 1 Axes>"
      ]
     },
     "metadata": {},
     "output_type": "display_data"
    }
   ],
   "source": [
    "def step_function(x):\n",
    "    return np.array(x >0, dtype=int)\n",
    "\n",
    "x=np.arange(-5.0,5.0,0.1)\n",
    "y=step_function(x)\n",
    "plt.plot(x,y)\n",
    "plt.ylim(-0.1, 1.1) # y축 범위 지정\n",
    "plt.show()"
   ]
  },
  {
   "cell_type": "markdown",
   "id": "27a372e3-6747-498b-b786-214aecebc0b7",
   "metadata": {},
   "source": [
    "### 3-2-4. 시그모이드 함수 구현하기"
   ]
  },
  {
   "cell_type": "code",
   "execution_count": 49,
   "id": "d88c2317-6502-4acf-bd85-db7767d9f1e9",
   "metadata": {},
   "outputs": [
    {
     "data": {
      "text/plain": [
       "array([0.26894142, 0.73105858, 0.88079708])"
      ]
     },
     "execution_count": 49,
     "metadata": {},
     "output_type": "execute_result"
    }
   ],
   "source": [
    "def sigmoid(x):\n",
    "    return 1/(1+np.exp(-x))\n",
    "\n",
    "x=np.array([-1.0, 1.0, 2.0])\n",
    "sigmoid(x)"
   ]
  },
  {
   "cell_type": "code",
   "execution_count": 50,
   "id": "e780f77b-3798-4460-a3e7-8637fbf207ed",
   "metadata": {},
   "outputs": [
    {
     "data": {
      "image/png": "[encoded data removed]",
      "text/plain": [
       "<Figure size 640x480 with 1 Axes>"
      ]
     },
     "metadata": {},
     "output_type": "display_data"
    }
   ],
   "source": [
    "x=np.arange(-5.0, 5.0, 0.1)\n",
    "y=sigmoid(x)\n",
    "plt.plot(x,y)\n",
    "plt.ylim(-0.1, 1.1)\n",
    "plt.show()"
   ]
  },
  {
   "cell_type": "markdown",
   "id": "1999b483-cc71-436e-9014-07b6c73601e5",
   "metadata": {},
   "source": [
    "### 3-2-5. 시그모이드 함수와 계단 함수 비교 \n",
    "\n",
    "계단 함수는 0과 1 중 하나를 반환, 시그모이드 함수는 실수로 반환 \n",
    "\n",
    "공통점: \n",
    "1. 둘 다 입력이 작을 때 출력은 0에 가깝고, 입력이 커지면 출력이 1에 가까워지는 구조\n",
    "2. 둘 다 비선형 함수/ 만약, 신경망에서 선형 함수를 사용하면, 층을 아무리 깊게 해도 '은닉층이 없는 네트워크'와 똑같은 기능이 됨."
   ]
  },
  {
   "cell_type": "markdown",
   "id": "1e8ef41c-cde4-430b-8562-9b2e08f9c897",
   "metadata": {},
   "source": [
    "### 3-2-7. ReLU 함수\n",
    "\n",
    "최근의 신경망 분야는 ReLU 함수 이용 시작. ReLU 함수는 입력이 0을 넘으면 그 입력을 그대로 출력, 0이하면 0을 출력하는 함수\n",
    "\n",
    "h(x)= x (x>0) // h(x) = 0 (x<=0)"
   ]
  },
  {
   "cell_type": "code",
   "execution_count": 51,
   "id": "3e3af8b9-1266-4241-9221-eb99241e2bd6",
   "metadata": {},
   "outputs": [],
   "source": [
    "def relu(x):\n",
    "    return np.maximum(0,x)"
   ]
  }
 ],
 "metadata": {
  "kernelspec": {
   "display_name": "Python 3 (ipykernel)",
   "language": "python",
   "name": "python3"
  },
  "language_info": {
   "codemirror_mode": {
    "name": "ipython",
    "version": 3
   },
   "file_extension": ".py",
   "mimetype": "text/x-python",
   "name": "python",
   "nbconvert_exporter": "python",
   "pygments_lexer": "ipython3",
   "version": "3.10.0"
  }
 },
 "nbformat": 4,
 "nbformat_minor": 5
}
