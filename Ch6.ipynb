{
 "cells": [
  {
   "cell_type": "markdown",
   "id": "3fb1da69-976b-4ab7-ad9b-daa01f5fc48b",
   "metadata": {},
   "source": [
    "# 딥러닝 기초\n",
    "\n",
    "## CH6 과제\n",
    "\n",
    "## 2020100381 안정빈"
   ]
  },
  {
   "cell_type": "markdown",
   "id": "c40fa4e6-4722-49f6-a3c8-6df459b73ca3",
   "metadata": {},
   "source": [
    "## 6-1. 매개변수 갱신\n",
    "* 신경망 학습의 목적은 손실 함수의 값을 가능한 낮게 하는 매개변수를 찾는 것.\n",
    "* => 즉 매개변수의 최적값을 찾는 문제로, 이러한 문제를 푸는 작업을 **최적화**라고 함."
   ]
  },
  {
   "cell_type": "markdown",
   "id": "c2795099-6a7e-42fc-a045-7859afda32dd",
   "metadata": {},
   "source": [
    "### 6-1-2 확률적 경사 하강법(SGD) 및 단점\n",
    "정의:\n",
    "* 매개변수의 기울기를 이용해, 기울어진 방향으로 매개변수 값을 몇번이고 반복하여, 최적의 값에 다가가는 방법.\n",
    "* 가중치 매개변수를 (학습률 X 매개변수의 기울기)만큼 빼는 작업을, 지정한 횟수만큼 반복\n",
    "  \n",
    "단점:\n",
    "* 비등방성 함수(방향에 따라 기울기가 달라지는 함수)에서는 탐색 경로가 비효율적(최솟값까지 지그재그의 형태로 이동).\n",
    "* 또한, 기울어진 방향이, 본래의 최솟값과 다른 방향을 가리킨다는 단점 존재."
   ]
  },
  {
   "cell_type": "code",
   "execution_count": 17,
   "id": "5078660c-2253-43c1-82fc-7d3df6496e99",
   "metadata": {},
   "outputs": [],
   "source": [
    "class SGD:\n",
    "    def __init__(self, lr=0.01):\n",
    "        self.lr=lr\n",
    "\n",
    "    def update(self, params, grads):\n",
    "        for key in params.keys():\n",
    "            params[key] -= self.lr * grads[key]"
   ]
  },
  {
   "cell_type": "markdown",
   "id": "5a094a97-be3c-4c0e-87d8-66f50232de1d",
   "metadata": {},
   "source": [
    "### 6-1-4. 모멘텀\n",
    "* 현재 위치에서의 기울기를 참고해서 속도를 정하고, 그 속도를 따라 가중치(파라미터)를 업데이트하는 방식\n",
    "* 공이 그릇의 바닥을 구르는 듯한 움직임을 보이며, SGD에 비해, x축 방향으로 빠르게 다가가 지그재그 움직임이 줄어든다."
   ]
  },
  {
   "cell_type": "code",
   "execution_count": 18,
   "id": "82bb4a8a-589c-408c-935e-3784ff79094f",
   "metadata": {},
   "outputs": [],
   "source": [
    "class Momentum:\n",
    "    def __init__(self, lr=0.01, momentum=0.9):\n",
    "        self.lr=lr\n",
    "        self.momentum=momentum\n",
    "        self.v=None\n",
    "\n",
    "    def update(self, params, grads):\n",
    "        if self.v is None:\n",
    "            self.v={}\n",
    "            for key, val in params.items():\n",
    "                self.v[key] = np.zeros_lie(val)\n",
    "        for key in paramskeys():\n",
    "            self.v[key]=self.momentum * self.v[key] - self.lr*grads[key]\n",
    "            params[key] += self.v[key]"
   ]
  },
  {
   "cell_type": "markdown",
   "id": "c767aa1c-d971-4264-843a-a848bb183267",
   "metadata": {},
   "source": [
    "### 6-1-5. AdaGrad\n",
    "신경망 학습에서는 학습률 값이 중요. 학습률이 작으면 학습 시간이 길어지고, 너무 크면 발산하여 학습이 제대로 진행되지 않음.\n",
    "\n",
    "학습률을 정하는 효과적 기술로 **학습률 감소**가 존재. => 학습을 진행하면서 학습률을 점차 줄여가는 방법\n",
    "\n",
    "학습률을 서서히 낮추는 방법은 매개변수 '전체'의 학습률 값을 일괄적으로 낮추는 것. 이를 발전시킨 기법이 **AdaGrad**\n",
    "* AdaGrad는 개별 매개변수에 적응적으로 학습률을 조정하면서 학습을 진행\n",
    "* 가중치 매개변수의 기울기의 제곱인 h를 이용해, 학습률 X 1/h**0.5 X 기울기한 값을 빼며, 가중치 매개변수 업데이트\n",
    "* 매겨변수의 원소 중에서 많이 움직인 원소는 학습률이 낮아진다.\n",
    "* 과거의 기울기를 제곱하여 계속 더하는 방식으로 학습을 진행할 수록, 갱신 강도가 약해진다.\n",
    "* 이를 해결하기 위해 **RMSProp**라는 방법이 존재"
   ]
  },
  {
   "cell_type": "code",
   "execution_count": 19,
   "id": "4e15313d-6f0f-4650-a245-9724dd822a43",
   "metadata": {},
   "outputs": [],
   "source": [
    "class AdaGrad:\n",
    "    def __init__(self, lr=0.01):\n",
    "        self.lr=lr\n",
    "        self.h=None\n",
    "\n",
    "    def update(self, params, grads):\n",
    "        if self.h is None:\n",
    "            self.h={}\n",
    "            for key, val in params.items():\n",
    "                self.h[key] = np.zeros_lie(val)\n",
    "\n",
    "        for key in params.keys():\n",
    "            self.h[key] += grads[key] * grads[key]\n",
    "            params[key] -= self.lr * grads[key] / (np.sqrt(self.h[key]) + 1e-7)"
   ]
  },
  {
   "cell_type": "markdown",
   "id": "3124274c-6362-41e5-a263-a29fb83512f1",
   "metadata": {},
   "source": [
    "### 6-1-6. Adam\n",
    "* 모멘텀과, AdaGrad를 융합한 새로운 방법.\n",
    "* 하이퍼파라미터의 '편향 보정'이 진행\n",
    "* 모멘텀과 비슷한 패턴이나, 모멘텀 때보다 공의 좌우 흔들림이 적다.\n",
    "* 학습률, B1, B2(일,이차 모멘텀용 계수) 총 3개의 하이퍼파라미터 존재"
   ]
  },
  {
   "cell_type": "markdown",
   "id": "9d3ec2db-ed90-4b2b-810e-36e6ff47e7c3",
   "metadata": {},
   "source": [
    "### 6-1-7. 어느 갱신 방법을 이용할 것인가?\n",
    "* 아직까지 모든 문제에서 항상 뛰어난 기법은 없음\n",
    "* 각각의 장단이 존재하며, 학습률 등의 하이퍼파라미터에 따라서도 결과가 다르게 나타남."
   ]
  },
  {
   "cell_type": "markdown",
   "id": "21578140-9e62-4511-b4c2-441838b4848d",
   "metadata": {},
   "source": [
    "## 6-2. 가중치의 초깃값\n",
    "* 신경망 학습에서는 가중치의 초깃값이 특히 중요.\n",
    "* 가중치의 초깃값을 무엇으로 설정하느냐가 신경망 학습의 성패를 가르기도 함."
   ]
  },
  {
   "cell_type": "markdown",
   "id": "2d6ebd8b-6ad8-4344-8f3f-8ed1a7ae526b",
   "metadata": {},
   "source": [
    "### 6-2-1. 초깃값을 0으로 하면?\n",
    "* **가중치 감소**는 가중치 매개변수의 값이 작아지도록 학습하는 방법으로, 가중치 값을 작게 하여 과대적합이 일어나지 않게 하는 것.\n",
    "* 가중치를 작게 만들고 싶으면, 초깃값도 작은 값에서 시작하는 것이 절대적이나, 초깃값을 0으로 하거나, 균일한 값으로 설정 시,\n",
    "* 오차역전파법에서 모든 가중치의 값이 똑같이 갱신되기에, 가중치를 여러 개 갖는 의미가 사라지게 된다."
   ]
  },
  {
   "cell_type": "markdown",
   "id": "933d88bc-9ee3-4447-a643-21593216ad4d",
   "metadata": {},
   "source": [
    "### 6-2-2. 은닉층의 활성화값 분포"
   ]
  },
  {
   "cell_type": "code",
   "execution_count": 20,
   "id": "aa7075fc-f37b-4782-a043-b09831a0c683",
   "metadata": {},
   "outputs": [],
   "source": [
    "import numpy as np \n",
    "import matplotlib.pyplot as plt \n",
    "\n",
    "def sigmoid(x):\n",
    "    return 1/(1+np.exp(-x))\n",
    "\n",
    "x=np.random.randn(1000,10)\n",
    "node_num= 100 # 은닉층 뉴런 수\n",
    "hidden_layer_size= 5\n",
    "activations = {}\n",
    "for i in range(hidden_layer_size):\n",
    "    if i == 0:\n",
    "        w = np.random.randn(10, node_num) * 1\n",
    "        a = np.dot(x, w)\n",
    "    else:\n",
    "        x = activations[i - 1]\n",
    "        w = np.random.randn(node_num, node_num) * 1\n",
    "        a = np.dot(x, w)\n",
    "    z = sigmoid(a)\n",
    "    activations[i] = z"
   ]
  },
  {
   "cell_type": "code",
   "execution_count": 21,
   "id": "8905f825-b1be-4c9f-b06f-4a59398095ed",
   "metadata": {},
   "outputs": [
    {
     "data": {
      "image/png": "[encoded data removed]",
      "text/plain": [
       "<Figure size 640x480 with 5 Axes>"
      ]
     },
     "metadata": {},
     "output_type": "display_data"
    }
   ],
   "source": [
    "# 히스토그램\n",
    "for i,a in activations.items():\n",
    "    plt.subplot(1, len(activations), i+1)\n",
    "    plt.title(str(i+1) + \"-layer\")\n",
    "    if i != 0: plt.yticks([], [])\n",
    "    plt.hist(a.flatten(), 30, range=(0,1))\n",
    "plt.show()"
   ]
  },
  {
   "cell_type": "markdown",
   "id": "4dc66431-368d-46f8-85ac-6924ae404f9a",
   "metadata": {},
   "source": [
    "각 층의 활성화값들이 0과 1에 치우쳐 분포된 것을 확인할 수 있음.\n",
    "\n",
    "위에서 사용한 시그모이드 함수는 출력이 0이나 1에 가까워지면, 미분값이 0에 근접 즉, **기울기 소실** 문제 발생"
   ]
  },
  {
   "cell_type": "code",
   "execution_count": 22,
   "id": "3c87f947-911a-4e6a-85ed-199347af6630",
   "metadata": {},
   "outputs": [
    {
     "data": {
      "image/png": "[encoded data removed]",
      "text/plain": [
       "<Figure size 640x480 with 5 Axes>"
      ]
     },
     "metadata": {},
     "output_type": "display_data"
    }
   ],
   "source": [
    "def sigmoid(x):\n",
    "    return 1 / (1 + np.exp(-x))\n",
    "\n",
    "x = np.random.randn(1000, 10)\n",
    "node_num = 100\n",
    "hidden_layer_size = 5\n",
    "activations = {}\n",
    "\n",
    "for i in range(hidden_layer_size):\n",
    "    if i == 0:\n",
    "        w = np.random.randn(10, node_num) * 0.01  # 작은 값으로 초기화\n",
    "        a = np.dot(x, w)\n",
    "    else:\n",
    "        x = activations[i - 1]\n",
    "        w = np.random.randn(node_num, node_num) * 0.01  # 작은 값으로 초기화\n",
    "        a = np.dot(x, w)\n",
    "\n",
    "    z = sigmoid(a)\n",
    "    activations[i] = z\n",
    "\n",
    "# ✅ 시각화\n",
    "for i, activation in activations.items():\n",
    "    plt.subplot(1, hidden_layer_size, i + 1)\n",
    "    plt.title(f\"{i+1} layer\")\n",
    "    plt.hist(activation.flatten(), bins=30, range=(0, 1))\n",
    "\n",
    "plt.tight_layout()\n",
    "plt.show()\n"
   ]
  },
  {
   "cell_type": "markdown",
   "id": "81468706-3cb5-4624-9ec1-fff225f1a9a0",
   "metadata": {},
   "source": [
    "표준편차가 0.01인 정규분포로 초기화 시, 0.5 부근에 집중\n",
    "\n",
    "다수의 뉴런이 거의 같은 값을 출력하므로, 뉴런을 여러 개 둔 의미가 사라짐."
   ]
  },
  {
   "cell_type": "code",
   "execution_count": 23,
   "id": "d3ee3895-344b-47e8-9ef0-05ac65f60260",
   "metadata": {},
   "outputs": [
    {
     "data": {
      "image/png": "[encoded data removed]",
      "text/plain": [
       "<Figure size 640x480 with 5 Axes>"
      ]
     },
     "metadata": {},
     "output_type": "display_data"
    }
   ],
   "source": [
    "# Xavier 초깃값을 이용\n",
    "def sigmoid(x):\n",
    "    return 1 / (1 + np.exp(-x))\n",
    "\n",
    "x = np.random.randn(1000, 10)\n",
    "node_num = 100\n",
    "hidden_layer_size = 5\n",
    "activations = {}\n",
    "\n",
    "for i in range(hidden_layer_size):\n",
    "    if i == 0:\n",
    "        w = np.random.randn(10, node_num) / np.sqrt(node_num)\n",
    "        a = np.dot(x, w)\n",
    "    else:\n",
    "        x = activations[i - 1]\n",
    "        w = np.random.randn(node_num, node_num) / np.sqrt(node_num)\n",
    "        a = np.dot(x, w)\n",
    "\n",
    "    z = sigmoid(a)\n",
    "    activations[i] = z\n",
    "\n",
    "# ✅ 시각화\n",
    "for i, activation in activations.items():\n",
    "    plt.subplot(1, hidden_layer_size, i + 1)\n",
    "    plt.title(f\"{i+1} layer\")\n",
    "    plt.hist(activation.flatten(), bins=30, range=(0, 1))\n",
    "\n",
    "plt.tight_layout()\n",
    "plt.show()"
   ]
  },
  {
   "cell_type": "markdown",
   "id": "3dc8cc88-6987-4237-91be-fc44a993b208",
   "metadata": {},
   "source": [
    "Xavier 초깃값 사용 결과로, 확실히 넓게 분포되어 시그모이드 함수의 표현력도 제한받지 않고 효율적인 학습이 가능해짐."
   ]
  },
  {
   "cell_type": "markdown",
   "id": "5d49bc8b-5574-486e-b29a-938e740a10ab",
   "metadata": {},
   "source": [
    "### 6-2-3. ReLU를 사용할 때의 가중치 초깃값\n",
    "* 시그모이드, 탄젠트 함수는 좌우 대칭이라, 중앙 부근이 선형인 함수로 ==> **Xavier** 초기값이 적절\n",
    "* ReLU는 음의 영역이 0이기에, 더 넓게 분포시키기 위해 2배의 계수를 사용하는 **he**초깃값이 적절"
   ]
  },
  {
   "cell_type": "markdown",
   "id": "7a372384-52a6-4727-bfaa-df3351e3a4a7",
   "metadata": {},
   "source": [
    "## 6-3. 배치 정규화\n",
    "**장점**:\n",
    "* 학습 속도 개선\n",
    "* 초깃값에 크게 의존X\n",
    "* 과대적합 억제\n",
    "\n",
    "**개념**:\n",
    "* 학습 시 미니배치를 단위로, 데이터 분포가 평균 0, 분산 1이 되도록 정규화\n",
    "* 활성화 함수의 앞에 삽입함으로써 데이터 분포가 덜 치우치게 할 수 있다.\n",
    "* 확대와 이동 변환을 수행"
   ]
  },
  {
   "cell_type": "markdown",
   "id": "da681ecf-f38f-490d-a1c4-db7e1549d045",
   "metadata": {},
   "source": [
    "## 6-4. 바른 학습을 위해\n",
    "* **과대적합**: 신경망이 훈련 데이터에만 지나치게 적응되어, 그 외의 데이터에서는 제대로 대응하지 못하는 상태\n",
    "* 주로, **매개변수가 많고, 표현력이 높은 모델**, **훈련 데이터가 적은 경우**에 발생"
   ]
  },
  {
   "cell_type": "code",
   "execution_count": 24,
   "id": "eaa6717e-34db-4c85-98ca-97e02def8a7e",
   "metadata": {},
   "outputs": [],
   "source": [
    "from dataset.mnist import load_mnist\n",
    "\n",
    "(x_train, t_train), (x_test, t_test) = load_mnist(normalize=True, one_hot_label=False)\n",
    "x_train=x_train[:300]\n",
    "t_train=t_train[:300]"
   ]
  },
  {
   "cell_type": "code",
   "execution_count": 25,
   "id": "a392d36e-8547-49cb-9c8a-673cbda7912e",
   "metadata": {},
   "outputs": [
    {
     "name": "stdout",
     "output_type": "stream",
     "text": [
      "epoch:0, train acc:0.11, test acc:0.1009\n",
      "epoch:1, train acc:0.15, test acc:0.1199\n",
      "epoch:2, train acc:0.15, test acc:0.1383\n",
      "epoch:3, train acc:0.17333333333333334, test acc:0.1569\n",
      "epoch:4, train acc:0.19333333333333333, test acc:0.1763\n",
      "epoch:5, train acc:0.22, test acc:0.2028\n",
      "epoch:6, train acc:0.25666666666666665, test acc:0.2236\n",
      "epoch:7, train acc:0.27666666666666667, test acc:0.2415\n",
      "epoch:8, train acc:0.30666666666666664, test acc:0.2576\n",
      "epoch:9, train acc:0.34, test acc:0.2733\n",
      "epoch:10, train acc:0.3566666666666667, test acc:0.2868\n",
      "epoch:11, train acc:0.37, test acc:0.3035\n",
      "epoch:12, train acc:0.38333333333333336, test acc:0.3181\n",
      "epoch:13, train acc:0.4033333333333333, test acc:0.3216\n",
      "epoch:14, train acc:0.43, test acc:0.3273\n",
      "epoch:15, train acc:0.41, test acc:0.3269\n",
      "epoch:16, train acc:0.4266666666666667, test acc:0.3364\n",
      "epoch:17, train acc:0.4666666666666667, test acc:0.3554\n",
      "epoch:18, train acc:0.47333333333333333, test acc:0.369\n",
      "epoch:19, train acc:0.48, test acc:0.3913\n",
      "epoch:20, train acc:0.5033333333333333, test acc:0.4113\n",
      "epoch:21, train acc:0.5433333333333333, test acc:0.4127\n",
      "epoch:22, train acc:0.53, test acc:0.4246\n",
      "epoch:23, train acc:0.52, test acc:0.4309\n",
      "epoch:24, train acc:0.5433333333333333, test acc:0.4392\n",
      "epoch:25, train acc:0.5633333333333334, test acc:0.4612\n",
      "epoch:26, train acc:0.58, test acc:0.4652\n",
      "epoch:27, train acc:0.6166666666666667, test acc:0.5044\n",
      "epoch:28, train acc:0.6633333333333333, test acc:0.5306\n",
      "epoch:29, train acc:0.68, test acc:0.5412\n",
      "epoch:30, train acc:0.7366666666666667, test acc:0.5537\n",
      "epoch:31, train acc:0.7566666666666667, test acc:0.583\n",
      "epoch:32, train acc:0.78, test acc:0.571\n",
      "epoch:33, train acc:0.7866666666666666, test acc:0.5829\n"
     ]
    },
    {
     "ename": "KeyboardInterrupt",
     "evalue": "",
     "output_type": "error",
     "traceback": [
      "\u001b[1;31m---------------------------------------------------------------------------\u001b[0m",
      "\u001b[1;31mKeyboardInterrupt\u001b[0m                         Traceback (most recent call last)",
      "Cell \u001b[1;32mIn[25], line 28\u001b[0m\n\u001b[0;32m     26\u001b[0m \u001b[38;5;28;01mif\u001b[39;00m i \u001b[38;5;241m%\u001b[39m iter_per_epoch \u001b[38;5;241m==\u001b[39m \u001b[38;5;241m0\u001b[39m:\n\u001b[0;32m     27\u001b[0m     train_acc \u001b[38;5;241m=\u001b[39m network\u001b[38;5;241m.\u001b[39maccuracy(x_train, t_train)\n\u001b[1;32m---> 28\u001b[0m     test_acc \u001b[38;5;241m=\u001b[39m \u001b[43mnetwork\u001b[49m\u001b[38;5;241;43m.\u001b[39;49m\u001b[43maccuracy\u001b[49m\u001b[43m(\u001b[49m\u001b[43mx_test\u001b[49m\u001b[43m,\u001b[49m\u001b[43m \u001b[49m\u001b[43mt_test\u001b[49m\u001b[43m)\u001b[49m\n\u001b[0;32m     29\u001b[0m     train_acc_list\u001b[38;5;241m.\u001b[39mappend(train_acc)\n\u001b[0;32m     30\u001b[0m     test_acc_list\u001b[38;5;241m.\u001b[39mappend(test_acc)\n",
      "File \u001b[1;32m~\\study\\DL_study\\common\\multi_layer_net.py:98\u001b[0m, in \u001b[0;36mMultiLayerNet.accuracy\u001b[1;34m(self, x, t)\u001b[0m\n\u001b[0;32m     97\u001b[0m \u001b[38;5;28;01mdef\u001b[39;00m\u001b[38;5;250m \u001b[39m\u001b[38;5;21maccuracy\u001b[39m(\u001b[38;5;28mself\u001b[39m, x, t):\n\u001b[1;32m---> 98\u001b[0m     y \u001b[38;5;241m=\u001b[39m \u001b[38;5;28;43mself\u001b[39;49m\u001b[38;5;241;43m.\u001b[39;49m\u001b[43mpredict\u001b[49m\u001b[43m(\u001b[49m\u001b[43mx\u001b[49m\u001b[43m)\u001b[49m\n\u001b[0;32m     99\u001b[0m     y \u001b[38;5;241m=\u001b[39m np\u001b[38;5;241m.\u001b[39margmax(y, axis\u001b[38;5;241m=\u001b[39m\u001b[38;5;241m1\u001b[39m)\n\u001b[0;32m    100\u001b[0m     \u001b[38;5;28;01mif\u001b[39;00m t\u001b[38;5;241m.\u001b[39mndim \u001b[38;5;241m!=\u001b[39m \u001b[38;5;241m1\u001b[39m : t \u001b[38;5;241m=\u001b[39m np\u001b[38;5;241m.\u001b[39margmax(t, axis\u001b[38;5;241m=\u001b[39m\u001b[38;5;241m1\u001b[39m)\n",
      "File \u001b[1;32m~\\study\\DL_study\\common\\multi_layer_net.py:72\u001b[0m, in \u001b[0;36mMultiLayerNet.predict\u001b[1;34m(self, x)\u001b[0m\n\u001b[0;32m     70\u001b[0m \u001b[38;5;28;01mdef\u001b[39;00m\u001b[38;5;250m \u001b[39m\u001b[38;5;21mpredict\u001b[39m(\u001b[38;5;28mself\u001b[39m, x):\n\u001b[0;32m     71\u001b[0m     \u001b[38;5;28;01mfor\u001b[39;00m layer \u001b[38;5;129;01min\u001b[39;00m \u001b[38;5;28mself\u001b[39m\u001b[38;5;241m.\u001b[39mlayers\u001b[38;5;241m.\u001b[39mvalues():\n\u001b[1;32m---> 72\u001b[0m         x \u001b[38;5;241m=\u001b[39m \u001b[43mlayer\u001b[49m\u001b[38;5;241;43m.\u001b[39;49m\u001b[43mforward\u001b[49m\u001b[43m(\u001b[49m\u001b[43mx\u001b[49m\u001b[43m)\u001b[49m\n\u001b[0;32m     74\u001b[0m     \u001b[38;5;28;01mreturn\u001b[39;00m x\n",
      "File \u001b[1;32m~\\study\\DL_study\\common\\layers.py:57\u001b[0m, in \u001b[0;36mAffine.forward\u001b[1;34m(self, x)\u001b[0m\n\u001b[0;32m     54\u001b[0m x \u001b[38;5;241m=\u001b[39m x\u001b[38;5;241m.\u001b[39mreshape(x\u001b[38;5;241m.\u001b[39mshape[\u001b[38;5;241m0\u001b[39m], \u001b[38;5;241m-\u001b[39m\u001b[38;5;241m1\u001b[39m)\n\u001b[0;32m     55\u001b[0m \u001b[38;5;28mself\u001b[39m\u001b[38;5;241m.\u001b[39mx \u001b[38;5;241m=\u001b[39m x\n\u001b[1;32m---> 57\u001b[0m out \u001b[38;5;241m=\u001b[39m \u001b[43mnp\u001b[49m\u001b[38;5;241;43m.\u001b[39;49m\u001b[43mdot\u001b[49m\u001b[43m(\u001b[49m\u001b[38;5;28;43mself\u001b[39;49m\u001b[38;5;241;43m.\u001b[39;49m\u001b[43mx\u001b[49m\u001b[43m,\u001b[49m\u001b[43m \u001b[49m\u001b[38;5;28;43mself\u001b[39;49m\u001b[38;5;241;43m.\u001b[39;49m\u001b[43mW\u001b[49m\u001b[43m)\u001b[49m \u001b[38;5;241m+\u001b[39m \u001b[38;5;28mself\u001b[39m\u001b[38;5;241m.\u001b[39mb\n\u001b[0;32m     59\u001b[0m \u001b[38;5;28;01mreturn\u001b[39;00m out\n",
      "\u001b[1;31mKeyboardInterrupt\u001b[0m: "
     ]
    }
   ],
   "source": [
    "from common.multi_layer_net import MultiLayerNet\n",
    "from common.optimizer import SGD\n",
    "\n",
    "network = MultiLayerNet(input_size=784, hidden_size_list=[100, 100, 100, 100, 100, 100], output_size=10)\n",
    "optimizer = SGD(lr=0.01)  # 학습률이 0.01인 SGD로 매개변수 갱신\n",
    "\n",
    "max_epochs = 201\n",
    "train_size = x_train.shape[0]\n",
    "batch_size = 100\n",
    "\n",
    "train_loss_list = []\n",
    "train_acc_list = []\n",
    "test_acc_list = []\n",
    "\n",
    "iter_per_epoch = max(train_size / batch_size, 1)\n",
    "\n",
    "epoch_cnt = 0\n",
    "for i in range(1000000000):\n",
    "    batch_mask = np.random.choice(train_size, batch_size)\n",
    "    x_batch = x_train[batch_mask]\n",
    "    t_batch = t_train[batch_mask]\n",
    "\n",
    "    grads = network.gradient(x_batch, t_batch)\n",
    "    optimizer.update(network.params, grads)\n",
    "\n",
    "    if i % iter_per_epoch == 0:\n",
    "        train_acc = network.accuracy(x_train, t_train)\n",
    "        test_acc = network.accuracy(x_test, t_test)\n",
    "        train_acc_list.append(train_acc)\n",
    "        test_acc_list.append(test_acc)\n",
    "\n",
    "        print(\"epoch:\" + str(epoch_cnt) + \", train acc:\" + str(train_acc) + \", test acc:\" + str(test_acc))\n",
    "\n",
    "        epoch_cnt += 1\n",
    "        if epoch_cnt >= max_epochs:\n",
    "            break"
   ]
  },
  {
   "cell_type": "markdown",
   "id": "ec5f48c6-80e5-4815-9377-7ddb0dad6640",
   "metadata": {},
   "source": [
    "### 6-4-2. 가중치 감소\n",
    "* 학습 과정에서 큰 가중치에 대해서는 그에 상응하는 큰 페널티를 부과하여 과대적합을 억제하는 방법.\n",
    "* 가중치 감소는 모든 가중치 각각의 손실 함수에 1/2 X 람다(정규화 세기를 조절하는 파라미터) X 가중치제곱값)을 더한다.\n",
    "* ==> 훈련 데이터에 대한 정확도가 떨어질 순 있으나, 테스트 데이터와의 성능 차이가 감소한다."
   ]
  },
  {
   "cell_type": "markdown",
   "id": "0c06af28-cbdb-4787-a0c1-19114576a287",
   "metadata": {},
   "source": [
    "### 6-4-3. 드롭아웃\n",
    "* 신경망 훈련 때 은닉층의 뉴런을 무작위로 골라 삭제하면서 학습하는 방법.\n",
    "* 훈련 때는 데이터를 흘릴 때마다 삭제할 뉴런을 무작위로 선택하고, 시험 때는 모든 뉴런에 신호를 전달한다.\n",
    "* 단, 시험 때는 각 뉴런의 출력에 훈련 때 삭제 안 한 비율을 곱하여 출력\n",
    "* ===> 모델의 표현력을 높이면서도 과대적합을 억제할 수 있음."
   ]
  },
  {
   "cell_type": "code",
   "execution_count": 13,
   "id": "0af127c9-0419-4f36-92d4-50c9cd84e086",
   "metadata": {},
   "outputs": [],
   "source": [
    "class Dropout:\n",
    "    def __init__(self, dropout_ratio=0.5):\n",
    "        self.dropout_ratio = dropout_ratio\n",
    "        self.mask = None\n",
    "\n",
    "    def forward(self, x, train_flg=True):\n",
    "        if train_flg:\n",
    "            self.mask = np.random.randn(*x.shape) > self.dropout_ratio\n",
    "            return x * self.mask\n",
    "        else:\n",
    "            return x * (1.0 - self.dropout_ratio)\n",
    "\n",
    "    def backward(self, dout):\n",
    "        return dout * self.mask"
   ]
  },
  {
   "cell_type": "markdown",
   "id": "bb899fdc-87e7-433d-ae99-64ef350d78e9",
   "metadata": {},
   "source": [
    "## 6-5. 적절한 하이퍼파라미터 값 찾기\n",
    "* 각 층의 뉴런 수, 배치 크기, 학습률, 가중치 감소 등을 의미\n",
    "* 적절하지 못한 하이퍼파라미터값을 사용시, 모델의 성능이 크게 떨어진다."
   ]
  },
  {
   "cell_type": "markdown",
   "id": "e3dfb974-462f-48cc-9f65-95e9ef01ff18",
   "metadata": {},
   "source": [
    "### 6-5-1. 검증 데이터\n",
    "* 하이퍼 파라미터의 성능을 평가할 때, 시험 데이터를 사용시, 하이퍼 파라미터의 값이 시험 데이터에만 적합하도록 조정되어 버림.\n",
    "* ==> 하이퍼 파라미터를 확인하는 데이터를 **검증 데이터**라고 함.\n",
    "* 훈련 데이터: 매개변수 학습\n",
    "* 검증 데이터: 하이퍼파라미터 성능 평가\n",
    "* 시험 데이터: 신경망의 범용 성능 평가"
   ]
  },
  {
   "cell_type": "code",
   "execution_count": 14,
   "id": "897269cf-e6a9-42a7-872d-e3b2fbcd22a7",
   "metadata": {},
   "outputs": [],
   "source": [
    "from common.util import shuffle_dataset\n",
    "\n",
    "(x_train, t_train), (x_test, t_test)=load_mnist()\n",
    "\n",
    "# 훈련 데이터 뒤섞음\n",
    "x_train, t_train =shuffle_dataset(x_train, t_train)\n",
    "# 20% 검증 데이터로 분할\n",
    "validation_rate= 0.2\n",
    "validation_num=int(x_train.shape[0] * validation_rate)\n",
    "\n",
    "x_val = x_train[:validation_num]\n",
    "t_val=t_train[:validation_num]\n",
    "x_train = x_train[validation_num :]\n",
    "t_train = t_train[validation_num :]"
   ]
  },
  {
   "cell_type": "markdown",
   "id": "2406dfd6-7d12-452c-aafa-d077b695a617",
   "metadata": {},
   "source": [
    "### 6-5-2. 하이퍼파라미터 최적화\n",
    "* 하이퍼파라미터의 '최적 값'이 존재하는 범위를 조금씩 줄여가는 방식.\n",
    "* 범위를 조금씩 줄이려면 우선 대략적인 범위를 설정하고 그 범위에서 무작위로 하이퍼파라미터 값을 샘플링 후, 그 값으로 정확도 평가\n",
    "* 이러한 작업을 반복하며 '최적 값'의 범위를 좁혀감."
   ]
  },
  {
   "cell_type": "markdown",
   "id": "773ad726-09f6-4d16-be79-53eb424e5e1a",
   "metadata": {},
   "source": [
    "**과정:**\n",
    "* 0단계: 하이퍼파라미터 값의 범위를 설정\n",
    "* 1단계: 설정된 범위에서 하이퍼파라미터의 값을 무작위로 추출\n",
    "* 2단계: 1단계에서 샘플링한 하이퍼파라미터 값을 사용하여 학습, 검증 데이터로 정확도를 평가( 에포크는 작게 설정)\n",
    "* 3단계: 1,2 단계를 특정 횟수 반복하여, 그 정확도의 결과를 보고 하이퍼파라미터의 범위를 좁혀감."
   ]
  },
  {
   "cell_type": "code",
   "execution_count": 16,
   "id": "ac0931e1-9cc8-411d-83ec-d8cbb5d08107",
   "metadata": {},
   "outputs": [],
   "source": [
    "weight_dcay=10**np.random.uniform(-8, -4)\n",
    "lr= 10 ** np.random.uniform(-6,-2)"
   ]
  },
  {
   "cell_type": "code",
   "execution_count": null,
   "id": "c770eb0a-2e1f-4c2b-93f2-2b32356bd6ec",
   "metadata": {},
   "outputs": [],
   "source": []
  }
 ],
 "metadata": {
  "kernelspec": {
   "display_name": "venv",
   "language": "python",
   "name": "python3"
  },
  "language_info": {
   "codemirror_mode": {
    "name": "ipython",
    "version": 3
   },
   "file_extension": ".py",
   "mimetype": "text/x-python",
   "name": "python",
   "nbconvert_exporter": "python",
   "pygments_lexer": "ipython3",
   "version": "3.10.0"
  }
 },
 "nbformat": 4,
 "nbformat_minor": 5
}
